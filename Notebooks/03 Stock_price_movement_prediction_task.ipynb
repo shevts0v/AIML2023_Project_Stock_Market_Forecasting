{
  "cells": [
    {
      "attachments": {},
      "cell_type": "markdown",
      "id": "88a63e98",
      "metadata": {},
      "source": [
        "# Predicting stock market movement based on NLP input"
      ]
    },
    {
      "attachments": {},
      "cell_type": "markdown",
      "id": "a87b15ac",
      "metadata": {},
      "source": [
        "## Install the relevant packages"
      ]
    },
    {
      "cell_type": "code",
      "execution_count": 2,
      "id": "ce29b0c9",
      "metadata": {
        "gather": {
          "logged": 1684334024586
        }
      },
      "outputs": [
        {
          "name": "stdout",
          "output_type": "stream",
          "text": [
            "Requirement already satisfied: seaborn in c:\\users\\flori\\anaconda3\\lib\\site-packages (0.12.2)Note: you may need to restart the kernel to use updated packages.\n",
            "\n",
            "Requirement already satisfied: matplotlib!=3.6.1,>=3.1 in c:\\users\\flori\\anaconda3\\lib\\site-packages (from seaborn) (3.5.2)\n",
            "Requirement already satisfied: numpy!=1.24.0,>=1.17 in c:\\users\\flori\\anaconda3\\lib\\site-packages (from seaborn) (1.21.5)\n",
            "Requirement already satisfied: pandas>=0.25 in c:\\users\\flori\\anaconda3\\lib\\site-packages (from seaborn) (1.4.4)\n",
            "Requirement already satisfied: python-dateutil>=2.7 in c:\\users\\flori\\anaconda3\\lib\\site-packages (from matplotlib!=3.6.1,>=3.1->seaborn) (2.8.2)\n",
            "Requirement already satisfied: fonttools>=4.22.0 in c:\\users\\flori\\anaconda3\\lib\\site-packages (from matplotlib!=3.6.1,>=3.1->seaborn) (4.25.0)\n",
            "Requirement already satisfied: pyparsing>=2.2.1 in c:\\users\\flori\\anaconda3\\lib\\site-packages (from matplotlib!=3.6.1,>=3.1->seaborn) (3.0.9)\n",
            "Requirement already satisfied: cycler>=0.10 in c:\\users\\flori\\anaconda3\\lib\\site-packages (from matplotlib!=3.6.1,>=3.1->seaborn) (0.11.0)\n",
            "Requirement already satisfied: kiwisolver>=1.0.1 in c:\\users\\flori\\anaconda3\\lib\\site-packages (from matplotlib!=3.6.1,>=3.1->seaborn) (1.4.2)\n",
            "Requirement already satisfied: packaging>=20.0 in c:\\users\\flori\\anaconda3\\lib\\site-packages (from matplotlib!=3.6.1,>=3.1->seaborn) (21.3)\n",
            "Requirement already satisfied: pillow>=6.2.0 in c:\\users\\flori\\anaconda3\\lib\\site-packages (from matplotlib!=3.6.1,>=3.1->seaborn) (9.2.0)\n",
            "Requirement already satisfied: pytz>=2020.1 in c:\\users\\flori\\anaconda3\\lib\\site-packages (from pandas>=0.25->seaborn) (2022.1)\n",
            "Requirement already satisfied: six>=1.5 in c:\\users\\flori\\anaconda3\\lib\\site-packages (from python-dateutil>=2.7->matplotlib!=3.6.1,>=3.1->seaborn) (1.16.0)\n"
          ]
        }
      ],
      "source": [
        "pip install seaborn\n"
      ]
    },
    {
      "cell_type": "code",
      "execution_count": 3,
      "id": "5dd4b9a9",
      "metadata": {},
      "outputs": [
        {
          "name": "stdout",
          "output_type": "stream",
          "text": [
            "Requirement already satisfied: xgboost in c:\\users\\flori\\anaconda3\\lib\\site-packages (1.7.5)\n",
            "Requirement already satisfied: scipy in c:\\users\\flori\\anaconda3\\lib\\site-packages (from xgboost) (1.9.1)\n",
            "Requirement already satisfied: numpy in c:\\users\\flori\\anaconda3\\lib\\site-packages (from xgboost) (1.21.5)\n",
            "Note: you may need to restart the kernel to use updated packages.\n"
          ]
        }
      ],
      "source": [
        "pip install xgboost"
      ]
    },
    {
      "attachments": {},
      "cell_type": "markdown",
      "id": "5a1f17e3",
      "metadata": {},
      "source": [
        "## Importing modules"
      ]
    },
    {
      "cell_type": "code",
      "execution_count": 4,
      "id": "6df53deb",
      "metadata": {
        "gather": {
          "logged": 1684334030554
        },
        "id": "6df53deb"
      },
      "outputs": [],
      "source": [
        "# Data Preprocessing\n",
        "import seaborn as sns\n",
        "import pandas as pd\n",
        "import matplotlib.pyplot as plt\n",
        "import pickle\n",
        "import numpy as np\n",
        "import xgboost as xgb\n",
        "\n",
        "# Machine Learning\n",
        "from sklearn.model_selection import train_test_split\n",
        "from sklearn.model_selection import GridSearchCV\n",
        "from sklearn.metrics import confusion_matrix, accuracy_score, classification_report\n",
        "from sklearn.metrics import roc_auc_score\n",
        "\n",
        "\n",
        "from sklearn.dummy import DummyClassifier\n",
        "from sklearn.ensemble import RandomForestClassifier\n",
        "from sklearn.linear_model import LogisticRegression\n",
        "from sklearn.svm import SVC"
      ]
    },
    {
      "attachments": {},
      "cell_type": "markdown",
      "id": "38a08a7e",
      "metadata": {
        "id": "38a08a7e"
      },
      "source": [
        "## Data"
      ]
    },
    {
      "attachments": {},
      "cell_type": "markdown",
      "id": "d761df7c",
      "metadata": {},
      "source": [
        "Data is just loaded for illustrations purposes. The function below has to calculate these steps again."
      ]
    },
    {
      "cell_type": "code",
      "execution_count": 5,
      "id": "e5f84e3b",
      "metadata": {
        "gather": {
          "logged": 1684334009984
        },
        "id": "e5f84e3b",
        "outputId": "17851f25-19a8-49a0-866a-84b89b39546f"
      },
      "outputs": [
        {
          "data": {
            "text/html": [
              "<div>\n",
              "<style scoped>\n",
              "    .dataframe tbody tr th:only-of-type {\n",
              "        vertical-align: middle;\n",
              "    }\n",
              "\n",
              "    .dataframe tbody tr th {\n",
              "        vertical-align: top;\n",
              "    }\n",
              "\n",
              "    .dataframe thead th {\n",
              "        text-align: right;\n",
              "    }\n",
              "</style>\n",
              "<table border=\"1\" class=\"dataframe\">\n",
              "  <thead>\n",
              "    <tr style=\"text-align: right;\">\n",
              "      <th></th>\n",
              "      <th>date</th>\n",
              "      <th>W2V embeddings</th>\n",
              "      <th>BERT embeddings</th>\n",
              "      <th>sentiment score</th>\n",
              "      <th>BERT embeddings_mean</th>\n",
              "      <th>W2V embeddings_mean</th>\n",
              "      <th>average sentiment score</th>\n",
              "      <th>bag of words</th>\n",
              "      <th>bag of words_tfidf</th>\n",
              "    </tr>\n",
              "  </thead>\n",
              "  <tbody>\n",
              "    <tr>\n",
              "      <th>0</th>\n",
              "      <td>2022-01-03</td>\n",
              "      <td>[[-0.0404924675822258, 0.0254952572286129, 0.0...</td>\n",
              "      <td>[[-0.3693830966949463, -0.2471671998500824, -0...</td>\n",
              "      <td>[-1, 0, 0, -1, 0, 0, 0, 0, 0, 0, 0, 0, 0, 0, 0...</td>\n",
              "      <td>[-0.228029658080175, -0.17713059568496678, 0.0...</td>\n",
              "      <td>[0.003947518421497581, 0.022911421280827952, 0...</td>\n",
              "      <td>-0.055172</td>\n",
              "      <td>[0, 0, 0, 0, 0, 0, 0, 0, 0, 0, 0, 0, 0, 0, 0, ...</td>\n",
              "      <td>[0.0, 0.0, 0.0, 0.0, 0.0, 0.0, 0.0, 0.0, 0.0, ...</td>\n",
              "    </tr>\n",
              "    <tr>\n",
              "      <th>1</th>\n",
              "      <td>2022-01-04</td>\n",
              "      <td>[[-0.0359090156853199, -0.02702840231359005, 0...</td>\n",
              "      <td>[[-0.06224224716424942, -0.2979371249675751, 0...</td>\n",
              "      <td>[0, 0, 0, 0, 1, 0, 0, 1, 0, 0, -1, 1, 0, 0, 0,...</td>\n",
              "      <td>[-0.230750181076185, -0.18562821314359704, -0....</td>\n",
              "      <td>[0.01112971006991054, 0.014293222201654946, -0...</td>\n",
              "      <td>-0.024390</td>\n",
              "      <td>[0, 0, 0, 0, 0, 0, 0, 0, 0, 0, 0, 0, 0, 0, 0, ...</td>\n",
              "      <td>[0.0, 0.0, 0.0, 0.0, 0.0, 0.0, 0.0, 0.0, 0.0, ...</td>\n",
              "    </tr>\n",
              "    <tr>\n",
              "      <th>2</th>\n",
              "      <td>2022-01-05</td>\n",
              "      <td>[[0.01961263082921505, -0.0658365860581398, -0...</td>\n",
              "      <td>[[-0.10791551321744919, -0.1328592747449875, 0...</td>\n",
              "      <td>[1, -1, 0, 0, 0, 0, -1, 0, 0, 0, 0, -1, 0, 1, ...</td>\n",
              "      <td>[-0.23156420670578773, -0.1829247910984611, -0...</td>\n",
              "      <td>[-0.005389764467115278, 0.01680529410577268, -...</td>\n",
              "      <td>0.052239</td>\n",
              "      <td>[0, 0, 0, 0, 0, 0, 0, 0, 0, 0, 0, 0, 0, 0, 0, ...</td>\n",
              "      <td>[0.0, 0.0, 0.0, 0.0, 0.0, 0.0, 0.0, 0.0, 0.0, ...</td>\n",
              "    </tr>\n",
              "    <tr>\n",
              "      <th>3</th>\n",
              "      <td>2022-01-06</td>\n",
              "      <td>[[0.09759902954101562, -0.0401458740234375, -0...</td>\n",
              "      <td>[[-0.2522630989551544, -0.28231102228164673, 0...</td>\n",
              "      <td>[1, 1, 0, -1, 0, 1, 1, -1, -1, 0, 0, 0, 0, 0, ...</td>\n",
              "      <td>[-0.23953293037640166, -0.1844954190851176, -0...</td>\n",
              "      <td>[-0.004168366527998112, 0.015012458536378764, ...</td>\n",
              "      <td>0.140845</td>\n",
              "      <td>[0, 0, 0, 0, 0, 0, 0, 0, 0, 0, 0, 0, 0, 0, 0, ...</td>\n",
              "      <td>[0.0, 0.0, 0.0, 0.0, 0.0, 0.0, 0.0, 0.0, 0.0, ...</td>\n",
              "    </tr>\n",
              "    <tr>\n",
              "      <th>4</th>\n",
              "      <td>2022-01-07</td>\n",
              "      <td>[[-0.1065848246216774, 0.0205078125, 0.1667131...</td>\n",
              "      <td>[[-0.19235484302043915, -0.22265130281448364, ...</td>\n",
              "      <td>[0, -1, 1, 1, 1, 0, -1, 0, 0, -1, 0, 0, 1, -1,...</td>\n",
              "      <td>[-0.22612745273240412, -0.17468479186153182, -...</td>\n",
              "      <td>[0.00022708027659413906, 0.013337278338999918,...</td>\n",
              "      <td>-0.038462</td>\n",
              "      <td>[0, 0, 0, 0, 0, 0, 0, 0, 0, 0, 0, 0, 0, 0, 0, ...</td>\n",
              "      <td>[0.0, 0.0, 0.0, 0.0, 0.0, 0.0, 0.0, 0.0, 0.0, ...</td>\n",
              "    </tr>\n",
              "    <tr>\n",
              "      <th>...</th>\n",
              "      <td>...</td>\n",
              "      <td>...</td>\n",
              "      <td>...</td>\n",
              "      <td>...</td>\n",
              "      <td>...</td>\n",
              "      <td>...</td>\n",
              "      <td>...</td>\n",
              "      <td>...</td>\n",
              "      <td>...</td>\n",
              "    </tr>\n",
              "    <tr>\n",
              "      <th>319</th>\n",
              "      <td>2022-12-27</td>\n",
              "      <td>[[0.046142578125, 0.08237304538488388, -0.0124...</td>\n",
              "      <td>[[-0.3981975317001343, -0.13455665111541748, 0...</td>\n",
              "      <td>[0, 0, 0, -1, -1, -1, -1, 0, -1, -1, 0, 0, -1,...</td>\n",
              "      <td>[-0.26531250585188587, -0.1853176990251352, 0....</td>\n",
              "      <td>[-0.014258044573092243, 0.03329225022345071, 0...</td>\n",
              "      <td>-0.195122</td>\n",
              "      <td>[0, 0, 0, 0, 0, 0, 0, 0, 0, 0, 0, 0, 0, 0, 0, ...</td>\n",
              "      <td>[0.0, 0.0, 0.0, 0.0, 0.0, 0.0, 0.0, 0.0, 0.0, ...</td>\n",
              "    </tr>\n",
              "    <tr>\n",
              "      <th>320</th>\n",
              "      <td>2022-12-28</td>\n",
              "      <td>[[0.0234505794942379, 0.0063040596432983875, -...</td>\n",
              "      <td>[[-0.23385146260261536, -0.23462671041488647, ...</td>\n",
              "      <td>[1, -1, 0, -1, 1, 0, 0, -1, 1, 0, 1, 0, 0, 0, ...</td>\n",
              "      <td>[-0.24873552998070847, -0.18875928787100646, 0...</td>\n",
              "      <td>[0.006058031684477572, 0.05790834233199281, 0....</td>\n",
              "      <td>0.037037</td>\n",
              "      <td>[0, 0, 0, 0, 0, 0, 0, 0, 0, 0, 0, 0, 0, 0, 0, ...</td>\n",
              "      <td>[0.0, 0.0, 0.0, 0.0, 0.0, 0.0, 0.0, 0.0, 0.0, ...</td>\n",
              "    </tr>\n",
              "    <tr>\n",
              "      <th>321</th>\n",
              "      <td>2022-12-29</td>\n",
              "      <td>[[-0.0789097398519516, -0.0066353934817016125,...</td>\n",
              "      <td>[[-0.27909645438194275, -0.10552593320608139, ...</td>\n",
              "      <td>[1, 0, 0, 0, 0, 0, 1, 0, 0, -1, 0, 1, 1, 1, 1,...</td>\n",
              "      <td>[-0.24983371656708186, -0.1996163552366852, 0....</td>\n",
              "      <td>[0.00018076455796744995, 0.041876158331433544,...</td>\n",
              "      <td>0.078125</td>\n",
              "      <td>[0, 0, 0, 0, 0, 0, 0, 0, 0, 0, 0, 0, 0, 0, 0, ...</td>\n",
              "      <td>[0.0, 0.0, 0.0, 0.0, 0.0, 0.0, 0.0, 0.0, 0.0, ...</td>\n",
              "    </tr>\n",
              "    <tr>\n",
              "      <th>322</th>\n",
              "      <td>2022-12-30</td>\n",
              "      <td>[[-0.004342215601354837, -0.02432687021791935,...</td>\n",
              "      <td>[[0.01812063157558441, -0.2427556961774826, -0...</td>\n",
              "      <td>[0, 0, 0, 1, 0, 1, 0, 0, -1, 0, 0, -1, -1, 0, ...</td>\n",
              "      <td>[-0.24502491698201215, -0.14490794693535594, -...</td>\n",
              "      <td>[0.008708919138630986, 0.04232665225364534, 0....</td>\n",
              "      <td>-0.053571</td>\n",
              "      <td>[0, 0, 0, 0, 0, 0, 0, 0, 0, 1, 0, 0, 0, 0, 0, ...</td>\n",
              "      <td>[0.0, 0.0, 0.0, 0.0, 0.0, 0.0, 0.0, 0.0, 0.0, ...</td>\n",
              "    </tr>\n",
              "    <tr>\n",
              "      <th>323</th>\n",
              "      <td>2022-12-31</td>\n",
              "      <td>[[0.06396484375, 0.09482421725988388, -0.12744...</td>\n",
              "      <td>[[-0.45373550057411194, -0.33069908618927, 0.1...</td>\n",
              "      <td>[0, 0, 0, 0, 1, 0, 0, -1, 1, 1, 0, 0, -1]</td>\n",
              "      <td>[-0.24154920961994392, -0.20473613733282456, 0...</td>\n",
              "      <td>[-0.017018435415453635, 0.04165575209145363, -...</td>\n",
              "      <td>0.076923</td>\n",
              "      <td>[0, 0, 0, 0, 0, 0, 0, 0, 0, 0, 0, 0, 0, 0, 0, ...</td>\n",
              "      <td>[0.0, 0.0, 0.0, 0.0, 0.0, 0.0, 0.0, 0.0, 0.0, ...</td>\n",
              "    </tr>\n",
              "  </tbody>\n",
              "</table>\n",
              "<p>324 rows × 9 columns</p>\n",
              "</div>"
            ],
            "text/plain": [
              "           date                                     W2V embeddings  \\\n",
              "0    2022-01-03  [[-0.0404924675822258, 0.0254952572286129, 0.0...   \n",
              "1    2022-01-04  [[-0.0359090156853199, -0.02702840231359005, 0...   \n",
              "2    2022-01-05  [[0.01961263082921505, -0.0658365860581398, -0...   \n",
              "3    2022-01-06  [[0.09759902954101562, -0.0401458740234375, -0...   \n",
              "4    2022-01-07  [[-0.1065848246216774, 0.0205078125, 0.1667131...   \n",
              "..          ...                                                ...   \n",
              "319  2022-12-27  [[0.046142578125, 0.08237304538488388, -0.0124...   \n",
              "320  2022-12-28  [[0.0234505794942379, 0.0063040596432983875, -...   \n",
              "321  2022-12-29  [[-0.0789097398519516, -0.0066353934817016125,...   \n",
              "322  2022-12-30  [[-0.004342215601354837, -0.02432687021791935,...   \n",
              "323  2022-12-31  [[0.06396484375, 0.09482421725988388, -0.12744...   \n",
              "\n",
              "                                       BERT embeddings  \\\n",
              "0    [[-0.3693830966949463, -0.2471671998500824, -0...   \n",
              "1    [[-0.06224224716424942, -0.2979371249675751, 0...   \n",
              "2    [[-0.10791551321744919, -0.1328592747449875, 0...   \n",
              "3    [[-0.2522630989551544, -0.28231102228164673, 0...   \n",
              "4    [[-0.19235484302043915, -0.22265130281448364, ...   \n",
              "..                                                 ...   \n",
              "319  [[-0.3981975317001343, -0.13455665111541748, 0...   \n",
              "320  [[-0.23385146260261536, -0.23462671041488647, ...   \n",
              "321  [[-0.27909645438194275, -0.10552593320608139, ...   \n",
              "322  [[0.01812063157558441, -0.2427556961774826, -0...   \n",
              "323  [[-0.45373550057411194, -0.33069908618927, 0.1...   \n",
              "\n",
              "                                       sentiment score  \\\n",
              "0    [-1, 0, 0, -1, 0, 0, 0, 0, 0, 0, 0, 0, 0, 0, 0...   \n",
              "1    [0, 0, 0, 0, 1, 0, 0, 1, 0, 0, -1, 1, 0, 0, 0,...   \n",
              "2    [1, -1, 0, 0, 0, 0, -1, 0, 0, 0, 0, -1, 0, 1, ...   \n",
              "3    [1, 1, 0, -1, 0, 1, 1, -1, -1, 0, 0, 0, 0, 0, ...   \n",
              "4    [0, -1, 1, 1, 1, 0, -1, 0, 0, -1, 0, 0, 1, -1,...   \n",
              "..                                                 ...   \n",
              "319  [0, 0, 0, -1, -1, -1, -1, 0, -1, -1, 0, 0, -1,...   \n",
              "320  [1, -1, 0, -1, 1, 0, 0, -1, 1, 0, 1, 0, 0, 0, ...   \n",
              "321  [1, 0, 0, 0, 0, 0, 1, 0, 0, -1, 0, 1, 1, 1, 1,...   \n",
              "322  [0, 0, 0, 1, 0, 1, 0, 0, -1, 0, 0, -1, -1, 0, ...   \n",
              "323          [0, 0, 0, 0, 1, 0, 0, -1, 1, 1, 0, 0, -1]   \n",
              "\n",
              "                                  BERT embeddings_mean  \\\n",
              "0    [-0.228029658080175, -0.17713059568496678, 0.0...   \n",
              "1    [-0.230750181076185, -0.18562821314359704, -0....   \n",
              "2    [-0.23156420670578773, -0.1829247910984611, -0...   \n",
              "3    [-0.23953293037640166, -0.1844954190851176, -0...   \n",
              "4    [-0.22612745273240412, -0.17468479186153182, -...   \n",
              "..                                                 ...   \n",
              "319  [-0.26531250585188587, -0.1853176990251352, 0....   \n",
              "320  [-0.24873552998070847, -0.18875928787100646, 0...   \n",
              "321  [-0.24983371656708186, -0.1996163552366852, 0....   \n",
              "322  [-0.24502491698201215, -0.14490794693535594, -...   \n",
              "323  [-0.24154920961994392, -0.20473613733282456, 0...   \n",
              "\n",
              "                                   W2V embeddings_mean  \\\n",
              "0    [0.003947518421497581, 0.022911421280827952, 0...   \n",
              "1    [0.01112971006991054, 0.014293222201654946, -0...   \n",
              "2    [-0.005389764467115278, 0.01680529410577268, -...   \n",
              "3    [-0.004168366527998112, 0.015012458536378764, ...   \n",
              "4    [0.00022708027659413906, 0.013337278338999918,...   \n",
              "..                                                 ...   \n",
              "319  [-0.014258044573092243, 0.03329225022345071, 0...   \n",
              "320  [0.006058031684477572, 0.05790834233199281, 0....   \n",
              "321  [0.00018076455796744995, 0.041876158331433544,...   \n",
              "322  [0.008708919138630986, 0.04232665225364534, 0....   \n",
              "323  [-0.017018435415453635, 0.04165575209145363, -...   \n",
              "\n",
              "     average sentiment score  \\\n",
              "0                  -0.055172   \n",
              "1                  -0.024390   \n",
              "2                   0.052239   \n",
              "3                   0.140845   \n",
              "4                  -0.038462   \n",
              "..                       ...   \n",
              "319                -0.195122   \n",
              "320                 0.037037   \n",
              "321                 0.078125   \n",
              "322                -0.053571   \n",
              "323                 0.076923   \n",
              "\n",
              "                                          bag of words  \\\n",
              "0    [0, 0, 0, 0, 0, 0, 0, 0, 0, 0, 0, 0, 0, 0, 0, ...   \n",
              "1    [0, 0, 0, 0, 0, 0, 0, 0, 0, 0, 0, 0, 0, 0, 0, ...   \n",
              "2    [0, 0, 0, 0, 0, 0, 0, 0, 0, 0, 0, 0, 0, 0, 0, ...   \n",
              "3    [0, 0, 0, 0, 0, 0, 0, 0, 0, 0, 0, 0, 0, 0, 0, ...   \n",
              "4    [0, 0, 0, 0, 0, 0, 0, 0, 0, 0, 0, 0, 0, 0, 0, ...   \n",
              "..                                                 ...   \n",
              "319  [0, 0, 0, 0, 0, 0, 0, 0, 0, 0, 0, 0, 0, 0, 0, ...   \n",
              "320  [0, 0, 0, 0, 0, 0, 0, 0, 0, 0, 0, 0, 0, 0, 0, ...   \n",
              "321  [0, 0, 0, 0, 0, 0, 0, 0, 0, 0, 0, 0, 0, 0, 0, ...   \n",
              "322  [0, 0, 0, 0, 0, 0, 0, 0, 0, 1, 0, 0, 0, 0, 0, ...   \n",
              "323  [0, 0, 0, 0, 0, 0, 0, 0, 0, 0, 0, 0, 0, 0, 0, ...   \n",
              "\n",
              "                                    bag of words_tfidf  \n",
              "0    [0.0, 0.0, 0.0, 0.0, 0.0, 0.0, 0.0, 0.0, 0.0, ...  \n",
              "1    [0.0, 0.0, 0.0, 0.0, 0.0, 0.0, 0.0, 0.0, 0.0, ...  \n",
              "2    [0.0, 0.0, 0.0, 0.0, 0.0, 0.0, 0.0, 0.0, 0.0, ...  \n",
              "3    [0.0, 0.0, 0.0, 0.0, 0.0, 0.0, 0.0, 0.0, 0.0, ...  \n",
              "4    [0.0, 0.0, 0.0, 0.0, 0.0, 0.0, 0.0, 0.0, 0.0, ...  \n",
              "..                                                 ...  \n",
              "319  [0.0, 0.0, 0.0, 0.0, 0.0, 0.0, 0.0, 0.0, 0.0, ...  \n",
              "320  [0.0, 0.0, 0.0, 0.0, 0.0, 0.0, 0.0, 0.0, 0.0, ...  \n",
              "321  [0.0, 0.0, 0.0, 0.0, 0.0, 0.0, 0.0, 0.0, 0.0, ...  \n",
              "322  [0.0, 0.0, 0.0, 0.0, 0.0, 0.0, 0.0, 0.0, 0.0, ...  \n",
              "323  [0.0, 0.0, 0.0, 0.0, 0.0, 0.0, 0.0, 0.0, 0.0, ...  \n",
              "\n",
              "[324 rows x 9 columns]"
            ]
          },
          "execution_count": 5,
          "metadata": {},
          "output_type": "execute_result"
        }
      ],
      "source": [
        "# Open NLP table from the pickle file created with the NLP code\n",
        "with open('nlp_task_output.pickle', 'rb') as f:\n",
        "        df_embedding = pickle.load(f)\n",
        "\n",
        "df_embedding"
      ]
    },
    {
      "cell_type": "code",
      "execution_count": 6,
      "id": "a2152bc0",
      "metadata": {},
      "outputs": [
        {
          "data": {
            "text/html": [
              "<div>\n",
              "<style scoped>\n",
              "    .dataframe tbody tr th:only-of-type {\n",
              "        vertical-align: middle;\n",
              "    }\n",
              "\n",
              "    .dataframe tbody tr th {\n",
              "        vertical-align: top;\n",
              "    }\n",
              "\n",
              "    .dataframe thead th {\n",
              "        text-align: right;\n",
              "    }\n",
              "</style>\n",
              "<table border=\"1\" class=\"dataframe\">\n",
              "  <thead>\n",
              "    <tr style=\"text-align: right;\">\n",
              "      <th></th>\n",
              "      <th>NF_date</th>\n",
              "      <th>NF_open</th>\n",
              "      <th>NF_close</th>\n",
              "    </tr>\n",
              "  </thead>\n",
              "  <tbody>\n",
              "    <tr>\n",
              "      <th>0</th>\n",
              "      <td>2021-12-27</td>\n",
              "      <td>7443.0</td>\n",
              "      <td>7539.0</td>\n",
              "    </tr>\n",
              "    <tr>\n",
              "      <th>1</th>\n",
              "      <td>2021-12-28</td>\n",
              "      <td>7539.0</td>\n",
              "      <td>7482.0</td>\n",
              "    </tr>\n",
              "    <tr>\n",
              "      <th>2</th>\n",
              "      <td>2021-12-29</td>\n",
              "      <td>7482.0</td>\n",
              "      <td>7421.0</td>\n",
              "    </tr>\n",
              "    <tr>\n",
              "      <th>3</th>\n",
              "      <td>2021-12-30</td>\n",
              "      <td>7421.0</td>\n",
              "      <td>7524.0</td>\n",
              "    </tr>\n",
              "    <tr>\n",
              "      <th>4</th>\n",
              "      <td>2021-12-31</td>\n",
              "      <td>7524.0</td>\n",
              "      <td>7421.0</td>\n",
              "    </tr>\n",
              "    <tr>\n",
              "      <th>...</th>\n",
              "      <td>...</td>\n",
              "      <td>...</td>\n",
              "      <td>...</td>\n",
              "    </tr>\n",
              "    <tr>\n",
              "      <th>265</th>\n",
              "      <td>2023-01-02</td>\n",
              "      <td>NaN</td>\n",
              "      <td>NaN</td>\n",
              "    </tr>\n",
              "    <tr>\n",
              "      <th>266</th>\n",
              "      <td>2023-01-03</td>\n",
              "      <td>4448.0</td>\n",
              "      <td>4376.0</td>\n",
              "    </tr>\n",
              "    <tr>\n",
              "      <th>267</th>\n",
              "      <td>2023-01-04</td>\n",
              "      <td>4376.0</td>\n",
              "      <td>4401.0</td>\n",
              "    </tr>\n",
              "    <tr>\n",
              "      <th>268</th>\n",
              "      <td>2023-01-05</td>\n",
              "      <td>4401.0</td>\n",
              "      <td>4293.0</td>\n",
              "    </tr>\n",
              "    <tr>\n",
              "      <th>269</th>\n",
              "      <td>2023-01-06</td>\n",
              "      <td>4293.0</td>\n",
              "      <td>4401.0</td>\n",
              "    </tr>\n",
              "  </tbody>\n",
              "</table>\n",
              "<p>270 rows × 3 columns</p>\n",
              "</div>"
            ],
            "text/plain": [
              "        NF_date  NF_open  NF_close\n",
              "0    2021-12-27   7443.0    7539.0\n",
              "1    2021-12-28   7539.0    7482.0\n",
              "2    2021-12-29   7482.0    7421.0\n",
              "3    2021-12-30   7421.0    7524.0\n",
              "4    2021-12-31   7524.0    7421.0\n",
              "..          ...      ...       ...\n",
              "265  2023-01-02      NaN       NaN\n",
              "266  2023-01-03   4448.0    4376.0\n",
              "267  2023-01-04   4376.0    4401.0\n",
              "268  2023-01-05   4401.0    4293.0\n",
              "269  2023-01-06   4293.0    4401.0\n",
              "\n",
              "[270 rows x 3 columns]"
            ]
          },
          "execution_count": 6,
          "metadata": {},
          "output_type": "execute_result"
        }
      ],
      "source": [
        "# Reading the stock data\n",
        "df_stock = pd.read_csv('bloomberg_nyse_faang_original.csv')\n",
        "df_stock"
      ]
    },
    {
      "attachments": {},
      "cell_type": "markdown",
      "id": "ef41e95c",
      "metadata": {},
      "source": [
        "### Labeling the stock price dataset"
      ]
    },
    {
      "cell_type": "code",
      "execution_count": 7,
      "id": "37f42705",
      "metadata": {},
      "outputs": [
        {
          "name": "stderr",
          "output_type": "stream",
          "text": [
            "C:\\Users\\flori\\AppData\\Local\\Temp\\ipykernel_4012\\3524282768.py:8: SettingWithCopyWarning: \n",
            "A value is trying to be set on a copy of a slice from a DataFrame.\n",
            "Try using .loc[row_indexer,col_indexer] = value instead\n",
            "\n",
            "See the caveats in the documentation: https://pandas.pydata.org/pandas-docs/stable/user_guide/indexing.html#returning-a-view-versus-a-copy\n",
            "  df_stock['target'] = df_stock['pct_change'].apply(lambda x: 0 if x < 0 else 1)\n",
            "C:\\Users\\flori\\AppData\\Local\\Temp\\ipykernel_4012\\3524282768.py:11: SettingWithCopyWarning: \n",
            "A value is trying to be set on a copy of a slice from a DataFrame\n",
            "\n",
            "See the caveats in the documentation: https://pandas.pydata.org/pandas-docs/stable/user_guide/indexing.html#returning-a-view-versus-a-copy\n",
            "  df_stock.drop(['NF_open', 'NF_close', 'pct_change'], axis=1, inplace=True)\n"
          ]
        },
        {
          "data": {
            "text/html": [
              "<div>\n",
              "<style scoped>\n",
              "    .dataframe tbody tr th:only-of-type {\n",
              "        vertical-align: middle;\n",
              "    }\n",
              "\n",
              "    .dataframe tbody tr th {\n",
              "        vertical-align: top;\n",
              "    }\n",
              "\n",
              "    .dataframe thead th {\n",
              "        text-align: right;\n",
              "    }\n",
              "</style>\n",
              "<table border=\"1\" class=\"dataframe\">\n",
              "  <thead>\n",
              "    <tr style=\"text-align: right;\">\n",
              "      <th></th>\n",
              "      <th>NF_date</th>\n",
              "      <th>target</th>\n",
              "    </tr>\n",
              "  </thead>\n",
              "  <tbody>\n",
              "    <tr>\n",
              "      <th>0</th>\n",
              "      <td>2021-12-27</td>\n",
              "      <td>1</td>\n",
              "    </tr>\n",
              "    <tr>\n",
              "      <th>1</th>\n",
              "      <td>2021-12-28</td>\n",
              "      <td>0</td>\n",
              "    </tr>\n",
              "    <tr>\n",
              "      <th>2</th>\n",
              "      <td>2021-12-29</td>\n",
              "      <td>0</td>\n",
              "    </tr>\n",
              "    <tr>\n",
              "      <th>3</th>\n",
              "      <td>2021-12-30</td>\n",
              "      <td>1</td>\n",
              "    </tr>\n",
              "    <tr>\n",
              "      <th>4</th>\n",
              "      <td>2021-12-31</td>\n",
              "      <td>0</td>\n",
              "    </tr>\n",
              "    <tr>\n",
              "      <th>...</th>\n",
              "      <td>...</td>\n",
              "      <td>...</td>\n",
              "    </tr>\n",
              "    <tr>\n",
              "      <th>263</th>\n",
              "      <td>2022-12-29</td>\n",
              "      <td>1</td>\n",
              "    </tr>\n",
              "    <tr>\n",
              "      <th>264</th>\n",
              "      <td>2022-12-30</td>\n",
              "      <td>1</td>\n",
              "    </tr>\n",
              "    <tr>\n",
              "      <th>266</th>\n",
              "      <td>2023-01-03</td>\n",
              "      <td>0</td>\n",
              "    </tr>\n",
              "    <tr>\n",
              "      <th>267</th>\n",
              "      <td>2023-01-04</td>\n",
              "      <td>1</td>\n",
              "    </tr>\n",
              "    <tr>\n",
              "      <th>268</th>\n",
              "      <td>2023-01-05</td>\n",
              "      <td>0</td>\n",
              "    </tr>\n",
              "  </tbody>\n",
              "</table>\n",
              "<p>259 rows × 2 columns</p>\n",
              "</div>"
            ],
            "text/plain": [
              "        NF_date  target\n",
              "0    2021-12-27       1\n",
              "1    2021-12-28       0\n",
              "2    2021-12-29       0\n",
              "3    2021-12-30       1\n",
              "4    2021-12-31       0\n",
              "..          ...     ...\n",
              "263  2022-12-29       1\n",
              "264  2022-12-30       1\n",
              "266  2023-01-03       0\n",
              "267  2023-01-04       1\n",
              "268  2023-01-05       0\n",
              "\n",
              "[259 rows x 2 columns]"
            ]
          },
          "execution_count": 7,
          "metadata": {},
          "output_type": "execute_result"
        }
      ],
      "source": [
        "df_stock['pct_change'] = df_stock['NF_open'].pct_change()\n",
        "\n",
        "#Shift the 'pct_change' values one row up because the movement is based on previuous days sentiment news\n",
        "df_stock['pct_change'] = df_stock['pct_change'].shift(-1)\n",
        "df_stock = df_stock.dropna()\n",
        "\n",
        "# Create new column with binary values based on pct_change column\n",
        "df_stock['target'] = df_stock['pct_change'].apply(lambda x: 0 if x < 0 else 1)\n",
        "\n",
        "# Remove unnecessary columns \n",
        "df_stock.drop(['NF_open', 'NF_close', 'pct_change'], axis=1, inplace=True) \n",
        "\n",
        "df_stock"
      ]
    },
    {
      "cell_type": "code",
      "execution_count": 8,
      "id": "3150645f",
      "metadata": {},
      "outputs": [
        {
          "data": {
            "text/html": [
              "<div>\n",
              "<style scoped>\n",
              "    .dataframe tbody tr th:only-of-type {\n",
              "        vertical-align: middle;\n",
              "    }\n",
              "\n",
              "    .dataframe tbody tr th {\n",
              "        vertical-align: top;\n",
              "    }\n",
              "\n",
              "    .dataframe thead th {\n",
              "        text-align: right;\n",
              "    }\n",
              "</style>\n",
              "<table border=\"1\" class=\"dataframe\">\n",
              "  <thead>\n",
              "    <tr style=\"text-align: right;\">\n",
              "      <th></th>\n",
              "      <th>date</th>\n",
              "      <th>W2V embeddings</th>\n",
              "      <th>BERT embeddings</th>\n",
              "      <th>sentiment score</th>\n",
              "      <th>BERT embeddings_mean</th>\n",
              "      <th>W2V embeddings_mean</th>\n",
              "      <th>average sentiment score</th>\n",
              "      <th>bag of words</th>\n",
              "      <th>bag of words_tfidf</th>\n",
              "      <th>NF_date</th>\n",
              "      <th>target</th>\n",
              "    </tr>\n",
              "  </thead>\n",
              "  <tbody>\n",
              "    <tr>\n",
              "      <th>0</th>\n",
              "      <td>2022-01-03</td>\n",
              "      <td>[[-0.0404924675822258, 0.0254952572286129, 0.0...</td>\n",
              "      <td>[[-0.3693830966949463, -0.2471671998500824, -0...</td>\n",
              "      <td>[-1, 0, 0, -1, 0, 0, 0, 0, 0, 0, 0, 0, 0, 0, 0...</td>\n",
              "      <td>[-0.228029658080175, -0.17713059568496678, 0.0...</td>\n",
              "      <td>[0.003947518421497581, 0.022911421280827952, 0...</td>\n",
              "      <td>-0.055172</td>\n",
              "      <td>[0, 0, 0, 0, 0, 0, 0, 0, 0, 0, 0, 0, 0, 0, 0, ...</td>\n",
              "      <td>[0.0, 0.0, 0.0, 0.0, 0.0, 0.0, 0.0, 0.0, 0.0, ...</td>\n",
              "      <td>2022-01-03</td>\n",
              "      <td>1</td>\n",
              "    </tr>\n",
              "    <tr>\n",
              "      <th>1</th>\n",
              "      <td>2022-01-04</td>\n",
              "      <td>[[-0.0359090156853199, -0.02702840231359005, 0...</td>\n",
              "      <td>[[-0.06224224716424942, -0.2979371249675751, 0...</td>\n",
              "      <td>[0, 0, 0, 0, 1, 0, 0, 1, 0, 0, -1, 1, 0, 0, 0,...</td>\n",
              "      <td>[-0.230750181076185, -0.18562821314359704, -0....</td>\n",
              "      <td>[0.01112971006991054, 0.014293222201654946, -0...</td>\n",
              "      <td>-0.024390</td>\n",
              "      <td>[0, 0, 0, 0, 0, 0, 0, 0, 0, 0, 0, 0, 0, 0, 0, ...</td>\n",
              "      <td>[0.0, 0.0, 0.0, 0.0, 0.0, 0.0, 0.0, 0.0, 0.0, ...</td>\n",
              "      <td>2022-01-04</td>\n",
              "      <td>0</td>\n",
              "    </tr>\n",
              "    <tr>\n",
              "      <th>2</th>\n",
              "      <td>2022-01-05</td>\n",
              "      <td>[[0.01961263082921505, -0.0658365860581398, -0...</td>\n",
              "      <td>[[-0.10791551321744919, -0.1328592747449875, 0...</td>\n",
              "      <td>[1, -1, 0, 0, 0, 0, -1, 0, 0, 0, 0, -1, 0, 1, ...</td>\n",
              "      <td>[-0.23156420670578773, -0.1829247910984611, -0...</td>\n",
              "      <td>[-0.005389764467115278, 0.01680529410577268, -...</td>\n",
              "      <td>0.052239</td>\n",
              "      <td>[0, 0, 0, 0, 0, 0, 0, 0, 0, 0, 0, 0, 0, 0, 0, ...</td>\n",
              "      <td>[0.0, 0.0, 0.0, 0.0, 0.0, 0.0, 0.0, 0.0, 0.0, ...</td>\n",
              "      <td>2022-01-05</td>\n",
              "      <td>0</td>\n",
              "    </tr>\n",
              "    <tr>\n",
              "      <th>3</th>\n",
              "      <td>2022-01-06</td>\n",
              "      <td>[[0.09759902954101562, -0.0401458740234375, -0...</td>\n",
              "      <td>[[-0.2522630989551544, -0.28231102228164673, 0...</td>\n",
              "      <td>[1, 1, 0, -1, 0, 1, 1, -1, -1, 0, 0, 0, 0, 0, ...</td>\n",
              "      <td>[-0.23953293037640166, -0.1844954190851176, -0...</td>\n",
              "      <td>[-0.004168366527998112, 0.015012458536378764, ...</td>\n",
              "      <td>0.140845</td>\n",
              "      <td>[0, 0, 0, 0, 0, 0, 0, 0, 0, 0, 0, 0, 0, 0, 0, ...</td>\n",
              "      <td>[0.0, 0.0, 0.0, 0.0, 0.0, 0.0, 0.0, 0.0, 0.0, ...</td>\n",
              "      <td>2022-01-06</td>\n",
              "      <td>1</td>\n",
              "    </tr>\n",
              "    <tr>\n",
              "      <th>4</th>\n",
              "      <td>2022-01-07</td>\n",
              "      <td>[[-0.1065848246216774, 0.0205078125, 0.1667131...</td>\n",
              "      <td>[[-0.19235484302043915, -0.22265130281448364, ...</td>\n",
              "      <td>[0, -1, 1, 1, 1, 0, -1, 0, 0, -1, 0, 0, 1, -1,...</td>\n",
              "      <td>[-0.22612745273240412, -0.17468479186153182, -...</td>\n",
              "      <td>[0.00022708027659413906, 0.013337278338999918,...</td>\n",
              "      <td>-0.038462</td>\n",
              "      <td>[0, 0, 0, 0, 0, 0, 0, 0, 0, 0, 0, 0, 0, 0, 0, ...</td>\n",
              "      <td>[0.0, 0.0, 0.0, 0.0, 0.0, 0.0, 0.0, 0.0, 0.0, ...</td>\n",
              "      <td>2022-01-07</td>\n",
              "      <td>0</td>\n",
              "    </tr>\n",
              "    <tr>\n",
              "      <th>...</th>\n",
              "      <td>...</td>\n",
              "      <td>...</td>\n",
              "      <td>...</td>\n",
              "      <td>...</td>\n",
              "      <td>...</td>\n",
              "      <td>...</td>\n",
              "      <td>...</td>\n",
              "      <td>...</td>\n",
              "      <td>...</td>\n",
              "      <td>...</td>\n",
              "      <td>...</td>\n",
              "    </tr>\n",
              "    <tr>\n",
              "      <th>246</th>\n",
              "      <td>2022-12-23</td>\n",
              "      <td>[[-0.025634765625, -0.05048828199505806, -0.05...</td>\n",
              "      <td>[[-0.3297692537307739, -0.438093900680542, 0.0...</td>\n",
              "      <td>[0, 1, 1, 0, 0, 1, 0, 0, 0, -1, 0, 0, 0, 0, 0,...</td>\n",
              "      <td>[-0.21523074796423317, -0.16981030083877746, -...</td>\n",
              "      <td>[-0.005770994670798673, 0.037307766885222755, ...</td>\n",
              "      <td>0.094118</td>\n",
              "      <td>[0, 1, 0, 0, 0, 0, 0, 0, 0, 0, 0, 1, 0, 0, 0, ...</td>\n",
              "      <td>[0.0, 7.711462288956911, 0.0, 0.0, 0.0, 0.0, 0...</td>\n",
              "      <td>2022-12-23</td>\n",
              "      <td>1</td>\n",
              "    </tr>\n",
              "    <tr>\n",
              "      <th>247</th>\n",
              "      <td>2022-12-27</td>\n",
              "      <td>[[0.046142578125, 0.08237304538488388, -0.0124...</td>\n",
              "      <td>[[-0.3981975317001343, -0.13455665111541748, 0...</td>\n",
              "      <td>[0, 0, 0, -1, -1, -1, -1, 0, -1, -1, 0, 0, -1,...</td>\n",
              "      <td>[-0.26531250585188587, -0.1853176990251352, 0....</td>\n",
              "      <td>[-0.014258044573092243, 0.03329225022345071, 0...</td>\n",
              "      <td>-0.195122</td>\n",
              "      <td>[0, 0, 0, 0, 0, 0, 0, 0, 0, 0, 0, 0, 0, 0, 0, ...</td>\n",
              "      <td>[0.0, 0.0, 0.0, 0.0, 0.0, 0.0, 0.0, 0.0, 0.0, ...</td>\n",
              "      <td>2022-12-27</td>\n",
              "      <td>0</td>\n",
              "    </tr>\n",
              "    <tr>\n",
              "      <th>248</th>\n",
              "      <td>2022-12-28</td>\n",
              "      <td>[[0.0234505794942379, 0.0063040596432983875, -...</td>\n",
              "      <td>[[-0.23385146260261536, -0.23462671041488647, ...</td>\n",
              "      <td>[1, -1, 0, -1, 1, 0, 0, -1, 1, 0, 1, 0, 0, 0, ...</td>\n",
              "      <td>[-0.24873552998070847, -0.18875928787100646, 0...</td>\n",
              "      <td>[0.006058031684477572, 0.05790834233199281, 0....</td>\n",
              "      <td>0.037037</td>\n",
              "      <td>[0, 0, 0, 0, 0, 0, 0, 0, 0, 0, 0, 0, 0, 0, 0, ...</td>\n",
              "      <td>[0.0, 0.0, 0.0, 0.0, 0.0, 0.0, 0.0, 0.0, 0.0, ...</td>\n",
              "      <td>2022-12-28</td>\n",
              "      <td>0</td>\n",
              "    </tr>\n",
              "    <tr>\n",
              "      <th>249</th>\n",
              "      <td>2022-12-29</td>\n",
              "      <td>[[-0.0789097398519516, -0.0066353934817016125,...</td>\n",
              "      <td>[[-0.27909645438194275, -0.10552593320608139, ...</td>\n",
              "      <td>[1, 0, 0, 0, 0, 0, 1, 0, 0, -1, 0, 1, 1, 1, 1,...</td>\n",
              "      <td>[-0.24983371656708186, -0.1996163552366852, 0....</td>\n",
              "      <td>[0.00018076455796744995, 0.041876158331433544,...</td>\n",
              "      <td>0.078125</td>\n",
              "      <td>[0, 0, 0, 0, 0, 0, 0, 0, 0, 0, 0, 0, 0, 0, 0, ...</td>\n",
              "      <td>[0.0, 0.0, 0.0, 0.0, 0.0, 0.0, 0.0, 0.0, 0.0, ...</td>\n",
              "      <td>2022-12-29</td>\n",
              "      <td>1</td>\n",
              "    </tr>\n",
              "    <tr>\n",
              "      <th>250</th>\n",
              "      <td>2022-12-30</td>\n",
              "      <td>[[-0.004342215601354837, -0.02432687021791935,...</td>\n",
              "      <td>[[0.01812063157558441, -0.2427556961774826, -0...</td>\n",
              "      <td>[0, 0, 0, 1, 0, 1, 0, 0, -1, 0, 0, -1, -1, 0, ...</td>\n",
              "      <td>[-0.24502491698201215, -0.14490794693535594, -...</td>\n",
              "      <td>[0.008708919138630986, 0.04232665225364534, 0....</td>\n",
              "      <td>-0.053571</td>\n",
              "      <td>[0, 0, 0, 0, 0, 0, 0, 0, 0, 1, 0, 0, 0, 0, 0, ...</td>\n",
              "      <td>[0.0, 0.0, 0.0, 0.0, 0.0, 0.0, 0.0, 0.0, 0.0, ...</td>\n",
              "      <td>2022-12-30</td>\n",
              "      <td>1</td>\n",
              "    </tr>\n",
              "  </tbody>\n",
              "</table>\n",
              "<p>251 rows × 11 columns</p>\n",
              "</div>"
            ],
            "text/plain": [
              "           date                                     W2V embeddings  \\\n",
              "0    2022-01-03  [[-0.0404924675822258, 0.0254952572286129, 0.0...   \n",
              "1    2022-01-04  [[-0.0359090156853199, -0.02702840231359005, 0...   \n",
              "2    2022-01-05  [[0.01961263082921505, -0.0658365860581398, -0...   \n",
              "3    2022-01-06  [[0.09759902954101562, -0.0401458740234375, -0...   \n",
              "4    2022-01-07  [[-0.1065848246216774, 0.0205078125, 0.1667131...   \n",
              "..          ...                                                ...   \n",
              "246  2022-12-23  [[-0.025634765625, -0.05048828199505806, -0.05...   \n",
              "247  2022-12-27  [[0.046142578125, 0.08237304538488388, -0.0124...   \n",
              "248  2022-12-28  [[0.0234505794942379, 0.0063040596432983875, -...   \n",
              "249  2022-12-29  [[-0.0789097398519516, -0.0066353934817016125,...   \n",
              "250  2022-12-30  [[-0.004342215601354837, -0.02432687021791935,...   \n",
              "\n",
              "                                       BERT embeddings  \\\n",
              "0    [[-0.3693830966949463, -0.2471671998500824, -0...   \n",
              "1    [[-0.06224224716424942, -0.2979371249675751, 0...   \n",
              "2    [[-0.10791551321744919, -0.1328592747449875, 0...   \n",
              "3    [[-0.2522630989551544, -0.28231102228164673, 0...   \n",
              "4    [[-0.19235484302043915, -0.22265130281448364, ...   \n",
              "..                                                 ...   \n",
              "246  [[-0.3297692537307739, -0.438093900680542, 0.0...   \n",
              "247  [[-0.3981975317001343, -0.13455665111541748, 0...   \n",
              "248  [[-0.23385146260261536, -0.23462671041488647, ...   \n",
              "249  [[-0.27909645438194275, -0.10552593320608139, ...   \n",
              "250  [[0.01812063157558441, -0.2427556961774826, -0...   \n",
              "\n",
              "                                       sentiment score  \\\n",
              "0    [-1, 0, 0, -1, 0, 0, 0, 0, 0, 0, 0, 0, 0, 0, 0...   \n",
              "1    [0, 0, 0, 0, 1, 0, 0, 1, 0, 0, -1, 1, 0, 0, 0,...   \n",
              "2    [1, -1, 0, 0, 0, 0, -1, 0, 0, 0, 0, -1, 0, 1, ...   \n",
              "3    [1, 1, 0, -1, 0, 1, 1, -1, -1, 0, 0, 0, 0, 0, ...   \n",
              "4    [0, -1, 1, 1, 1, 0, -1, 0, 0, -1, 0, 0, 1, -1,...   \n",
              "..                                                 ...   \n",
              "246  [0, 1, 1, 0, 0, 1, 0, 0, 0, -1, 0, 0, 0, 0, 0,...   \n",
              "247  [0, 0, 0, -1, -1, -1, -1, 0, -1, -1, 0, 0, -1,...   \n",
              "248  [1, -1, 0, -1, 1, 0, 0, -1, 1, 0, 1, 0, 0, 0, ...   \n",
              "249  [1, 0, 0, 0, 0, 0, 1, 0, 0, -1, 0, 1, 1, 1, 1,...   \n",
              "250  [0, 0, 0, 1, 0, 1, 0, 0, -1, 0, 0, -1, -1, 0, ...   \n",
              "\n",
              "                                  BERT embeddings_mean  \\\n",
              "0    [-0.228029658080175, -0.17713059568496678, 0.0...   \n",
              "1    [-0.230750181076185, -0.18562821314359704, -0....   \n",
              "2    [-0.23156420670578773, -0.1829247910984611, -0...   \n",
              "3    [-0.23953293037640166, -0.1844954190851176, -0...   \n",
              "4    [-0.22612745273240412, -0.17468479186153182, -...   \n",
              "..                                                 ...   \n",
              "246  [-0.21523074796423317, -0.16981030083877746, -...   \n",
              "247  [-0.26531250585188587, -0.1853176990251352, 0....   \n",
              "248  [-0.24873552998070847, -0.18875928787100646, 0...   \n",
              "249  [-0.24983371656708186, -0.1996163552366852, 0....   \n",
              "250  [-0.24502491698201215, -0.14490794693535594, -...   \n",
              "\n",
              "                                   W2V embeddings_mean  \\\n",
              "0    [0.003947518421497581, 0.022911421280827952, 0...   \n",
              "1    [0.01112971006991054, 0.014293222201654946, -0...   \n",
              "2    [-0.005389764467115278, 0.01680529410577268, -...   \n",
              "3    [-0.004168366527998112, 0.015012458536378764, ...   \n",
              "4    [0.00022708027659413906, 0.013337278338999918,...   \n",
              "..                                                 ...   \n",
              "246  [-0.005770994670798673, 0.037307766885222755, ...   \n",
              "247  [-0.014258044573092243, 0.03329225022345071, 0...   \n",
              "248  [0.006058031684477572, 0.05790834233199281, 0....   \n",
              "249  [0.00018076455796744995, 0.041876158331433544,...   \n",
              "250  [0.008708919138630986, 0.04232665225364534, 0....   \n",
              "\n",
              "     average sentiment score  \\\n",
              "0                  -0.055172   \n",
              "1                  -0.024390   \n",
              "2                   0.052239   \n",
              "3                   0.140845   \n",
              "4                  -0.038462   \n",
              "..                       ...   \n",
              "246                 0.094118   \n",
              "247                -0.195122   \n",
              "248                 0.037037   \n",
              "249                 0.078125   \n",
              "250                -0.053571   \n",
              "\n",
              "                                          bag of words  \\\n",
              "0    [0, 0, 0, 0, 0, 0, 0, 0, 0, 0, 0, 0, 0, 0, 0, ...   \n",
              "1    [0, 0, 0, 0, 0, 0, 0, 0, 0, 0, 0, 0, 0, 0, 0, ...   \n",
              "2    [0, 0, 0, 0, 0, 0, 0, 0, 0, 0, 0, 0, 0, 0, 0, ...   \n",
              "3    [0, 0, 0, 0, 0, 0, 0, 0, 0, 0, 0, 0, 0, 0, 0, ...   \n",
              "4    [0, 0, 0, 0, 0, 0, 0, 0, 0, 0, 0, 0, 0, 0, 0, ...   \n",
              "..                                                 ...   \n",
              "246  [0, 1, 0, 0, 0, 0, 0, 0, 0, 0, 0, 1, 0, 0, 0, ...   \n",
              "247  [0, 0, 0, 0, 0, 0, 0, 0, 0, 0, 0, 0, 0, 0, 0, ...   \n",
              "248  [0, 0, 0, 0, 0, 0, 0, 0, 0, 0, 0, 0, 0, 0, 0, ...   \n",
              "249  [0, 0, 0, 0, 0, 0, 0, 0, 0, 0, 0, 0, 0, 0, 0, ...   \n",
              "250  [0, 0, 0, 0, 0, 0, 0, 0, 0, 1, 0, 0, 0, 0, 0, ...   \n",
              "\n",
              "                                    bag of words_tfidf     NF_date  target  \n",
              "0    [0.0, 0.0, 0.0, 0.0, 0.0, 0.0, 0.0, 0.0, 0.0, ...  2022-01-03       1  \n",
              "1    [0.0, 0.0, 0.0, 0.0, 0.0, 0.0, 0.0, 0.0, 0.0, ...  2022-01-04       0  \n",
              "2    [0.0, 0.0, 0.0, 0.0, 0.0, 0.0, 0.0, 0.0, 0.0, ...  2022-01-05       0  \n",
              "3    [0.0, 0.0, 0.0, 0.0, 0.0, 0.0, 0.0, 0.0, 0.0, ...  2022-01-06       1  \n",
              "4    [0.0, 0.0, 0.0, 0.0, 0.0, 0.0, 0.0, 0.0, 0.0, ...  2022-01-07       0  \n",
              "..                                                 ...         ...     ...  \n",
              "246  [0.0, 7.711462288956911, 0.0, 0.0, 0.0, 0.0, 0...  2022-12-23       1  \n",
              "247  [0.0, 0.0, 0.0, 0.0, 0.0, 0.0, 0.0, 0.0, 0.0, ...  2022-12-27       0  \n",
              "248  [0.0, 0.0, 0.0, 0.0, 0.0, 0.0, 0.0, 0.0, 0.0, ...  2022-12-28       0  \n",
              "249  [0.0, 0.0, 0.0, 0.0, 0.0, 0.0, 0.0, 0.0, 0.0, ...  2022-12-29       1  \n",
              "250  [0.0, 0.0, 0.0, 0.0, 0.0, 0.0, 0.0, 0.0, 0.0, ...  2022-12-30       1  \n",
              "\n",
              "[251 rows x 11 columns]"
            ]
          },
          "execution_count": 8,
          "metadata": {},
          "output_type": "execute_result"
        }
      ],
      "source": [
        "df_result = pd.merge(\n",
        "    df_embedding,\n",
        "    df_stock,\n",
        "    how='inner',\n",
        "    left_on='date', \n",
        "    right_on='NF_date')\n",
        "\n",
        "df_result"
      ]
    },
    {
      "attachments": {},
      "cell_type": "markdown",
      "id": "e74d5258",
      "metadata": {
        "id": "e74d5258"
      },
      "source": [
        "These data frames will contain the accuracy of the final output"
      ]
    },
    {
      "cell_type": "code",
      "execution_count": 9,
      "id": "44bfee8d",
      "metadata": {
        "id": "44bfee8d"
      },
      "outputs": [],
      "source": [
        "columns = ['BERT embeddings_mean', 'W2V embeddings_mean', 'bag of words', 'bag of words_tfidf', 'average sentiment score']\n",
        "rows = ['dummy classifier', 'random forest', 'logistic regression', 'support vector machine', 'xgboost']\n",
        "\n",
        "accuracy_df = pd.DataFrame(index=rows, columns=columns)\n",
        "AUC_df = pd.DataFrame(index=rows, columns=columns)\n",
        "train_df = pd.DataFrame(index=rows, columns=columns)"
      ]
    },
    {
      "attachments": {},
      "cell_type": "markdown",
      "id": "32960290",
      "metadata": {
        "id": "32960290"
      },
      "source": [
        "## Function for machine learning"
      ]
    },
    {
      "cell_type": "code",
      "execution_count": 10,
      "id": "5fb91bf9",
      "metadata": {
        "id": "5fb91bf9"
      },
      "outputs": [],
      "source": [
        "def data_preprocessing(column_name):\n",
        "\n",
        "    X = np.stack(df_result[column_name])\n",
        "    y = df_result['target']\n",
        "    \n",
        "    return df_result, X, y \n"
      ]
    },
    {
      "cell_type": "code",
      "execution_count": 11,
      "id": "d010935f",
      "metadata": {
        "id": "d010935f"
      },
      "outputs": [],
      "source": [
        "# Used NLP models that work as input for machine learning task\n",
        "nlp_models = ['BERT embeddings_mean', 'W2V embeddings_mean', 'bag of words', 'bag of words_tfidf', 'average sentiment score']"
      ]
    },
    {
      "attachments": {},
      "cell_type": "markdown",
      "id": "5c0d608b",
      "metadata": {
        "id": "5c0d608b"
      },
      "source": [
        "## Dummy Classifier"
      ]
    },
    {
      "cell_type": "code",
      "execution_count": 12,
      "id": "e4e915f5",
      "metadata": {
        "id": "e4e915f5",
        "outputId": "1b17158f-48c3-4bf5-8b0a-d635fe69e5ea"
      },
      "outputs": [
        {
          "name": "stdout",
          "output_type": "stream",
          "text": [
            "AUC Score / BERT embeddings_mean: 0.5403726708074534\n",
            "Classification report and confusion matrix: dummy classifier / BERT embeddings_mean\n",
            "              precision    recall  f1-score   support\n",
            "\n",
            "           0       0.48      0.65      0.56        23\n",
            "           1       0.60      0.43      0.50        28\n",
            "\n",
            "    accuracy                           0.53        51\n",
            "   macro avg       0.54      0.54      0.53        51\n",
            "weighted avg       0.55      0.53      0.53        51\n",
            "\n"
          ]
        },
        {
          "data": {
            "image/png": "[encoded data removed]",
            "text/plain": [
              "<Figure size 300x200 with 1 Axes>"
            ]
          },
          "metadata": {},
          "output_type": "display_data"
        },
        {
          "name": "stdout",
          "output_type": "stream",
          "text": [
            "AUC Score / W2V embeddings_mean: 0.5403726708074534\n",
            "Classification report and confusion matrix: dummy classifier / W2V embeddings_mean\n",
            "              precision    recall  f1-score   support\n",
            "\n",
            "           0       0.48      0.65      0.56        23\n",
            "           1       0.60      0.43      0.50        28\n",
            "\n",
            "    accuracy                           0.53        51\n",
            "   macro avg       0.54      0.54      0.53        51\n",
            "weighted avg       0.55      0.53      0.53        51\n",
            "\n"
          ]
        },
        {
          "data": {
            "image/png": "[encoded data removed]",
            "text/plain": [
              "<Figure size 300x200 with 1 Axes>"
            ]
          },
          "metadata": {},
          "output_type": "display_data"
        },
        {
          "name": "stdout",
          "output_type": "stream",
          "text": [
            "AUC Score / bag of words: 0.5403726708074534\n",
            "Classification report and confusion matrix: dummy classifier / bag of words\n",
            "              precision    recall  f1-score   support\n",
            "\n",
            "           0       0.48      0.65      0.56        23\n",
            "           1       0.60      0.43      0.50        28\n",
            "\n",
            "    accuracy                           0.53        51\n",
            "   macro avg       0.54      0.54      0.53        51\n",
            "weighted avg       0.55      0.53      0.53        51\n",
            "\n"
          ]
        },
        {
          "data": {
            "image/png": "[encoded data removed]",
            "text/plain": [
              "<Figure size 300x200 with 1 Axes>"
            ]
          },
          "metadata": {},
          "output_type": "display_data"
        },
        {
          "name": "stdout",
          "output_type": "stream",
          "text": [
            "AUC Score / bag of words_tfidf: 0.5403726708074534\n",
            "Classification report and confusion matrix: dummy classifier / bag of words_tfidf\n",
            "              precision    recall  f1-score   support\n",
            "\n",
            "           0       0.48      0.65      0.56        23\n",
            "           1       0.60      0.43      0.50        28\n",
            "\n",
            "    accuracy                           0.53        51\n",
            "   macro avg       0.54      0.54      0.53        51\n",
            "weighted avg       0.55      0.53      0.53        51\n",
            "\n"
          ]
        },
        {
          "data": {
            "image/png": "[encoded data removed]",
            "text/plain": [
              "<Figure size 300x200 with 1 Axes>"
            ]
          },
          "metadata": {},
          "output_type": "display_data"
        },
        {
          "name": "stdout",
          "output_type": "stream",
          "text": [
            "AUC Score / average sentiment score: 0.5403726708074534\n",
            "Classification report and confusion matrix: dummy classifier / average sentiment score\n",
            "              precision    recall  f1-score   support\n",
            "\n",
            "           0       0.48      0.65      0.56        23\n",
            "           1       0.60      0.43      0.50        28\n",
            "\n",
            "    accuracy                           0.53        51\n",
            "   macro avg       0.54      0.54      0.53        51\n",
            "weighted avg       0.55      0.53      0.53        51\n",
            "\n"
          ]
        },
        {
          "data": {
            "image/png": "[encoded data removed]",
            "text/plain": [
              "<Figure size 300x200 with 1 Axes>"
            ]
          },
          "metadata": {},
          "output_type": "display_data"
        }
      ],
      "source": [
        "# Accuracy based on most frequent target value\n",
        "# Calculate data preprocessing, X and y over all nlp_models\n",
        "for nlp_model in nlp_models: \n",
        "    df_BERT, _, _ = data_preprocessing(column_name=nlp_model)\n",
        "    _, X, _ = data_preprocessing(column_name=nlp_model)\n",
        "    _, _, y = data_preprocessing(column_name=nlp_model)\n",
        "\n",
        "    # Dummy classifier provides baseline for comparing other models\n",
        "    X_train, X_test, y_train, y_test = train_test_split(X, y, test_size=0.2, random_state=42, shuffle=True)\n",
        "    dummy_clf = DummyClassifier(strategy='stratified', random_state=42)\n",
        "    dummy_clf.fit(X_train, y_train)\n",
        "\n",
        "    # Make predictions on the test set\n",
        "    y_pred_dummy = dummy_clf.predict(X_test)\n",
        "    y_pred_dummy_train = dummy_clf.predict(X_train)\n",
        "\n",
        "    auc_score = roc_auc_score(y_test, y_pred_dummy)\n",
        "\n",
        "    # Add accuracy and AUC to result table\n",
        "    accuracy_df[nlp_model]['dummy classifier'] = accuracy_score(y_test, y_pred_dummy)\n",
        "    AUC_df[nlp_model]['dummy classifier'] = roc_auc_score(y_test, y_pred_dummy)\n",
        "    train_df[nlp_model]['dummy classifier'] = accuracy_score(y_train, y_pred_dummy_train)\n",
        "\n",
        "\n",
        "    # Evaluate the performance of the DummyClassifier\n",
        "    print(f\"AUC Score / {nlp_model}:\", auc_score)\n",
        "    print(f\"Classification report and confusion matrix: dummy classifier / {nlp_model}\")\n",
        "    print(classification_report(y_test, y_pred_dummy))\n",
        "\n",
        "    cm = confusion_matrix(y_test, y_pred_dummy)\n",
        "    plt.figure(figsize=(3, 2))\n",
        "    sns.heatmap(cm, annot=True, fmt='d', cmap='Blues', cbar=False, square=True, xticklabels=[0, 1], yticklabels=[0, 1])\n",
        "    plt.xlabel('Predicted Label')\n",
        "    plt.ylabel('True Label')\n",
        "    plt.show()\n",
        "\n",
        "    # Obviously the value is the same for all NLP models"
      ]
    },
    {
      "attachments": {},
      "cell_type": "markdown",
      "id": "a3b4044e",
      "metadata": {
        "id": "a3b4044e"
      },
      "source": [
        "## Random forest classifier\n",
        "with GridSearch"
      ]
    },
    {
      "cell_type": "code",
      "execution_count": 13,
      "id": "c8c04126",
      "metadata": {
        "id": "c8c04126"
      },
      "outputs": [],
      "source": [
        "param_grid_rf = {\n",
        "    'n_estimators': [10, 50, 100, 200, 300],\n",
        "    'max_depth': [None, 5, 10, 20, 30],\n",
        "    'min_samples_split': [2, 5, 10],\n",
        "    'min_samples_leaf': [1, 2, 4],\n",
        "}"
      ]
    },
    {
      "cell_type": "code",
      "execution_count": 14,
      "id": "e15a4963",
      "metadata": {
        "id": "e15a4963",
        "outputId": "68b940d2-d628-4ac1-a367-5edaef76246f"
      },
      "outputs": [
        {
          "name": "stdout",
          "output_type": "stream",
          "text": [
            "Fitting 5 folds for each of 225 candidates, totalling 1125 fits\n",
            "AUC Score / BERT embeddings_mean: 0.44720496894409933\n",
            "Classification report and confusion matrix: random forest classifier / BERT embeddings_mean\n",
            "              precision    recall  f1-score   support\n",
            "\n",
            "           0       0.41      0.61      0.49        23\n",
            "           1       0.47      0.29      0.36        28\n",
            "\n",
            "    accuracy                           0.43        51\n",
            "   macro avg       0.44      0.45      0.42        51\n",
            "weighted avg       0.44      0.43      0.42        51\n",
            "\n",
            "Best hyperparameters:\n",
            "{'max_depth': None, 'min_samples_leaf': 1, 'min_samples_split': 10, 'n_estimators': 50}\n"
          ]
        },
        {
          "data": {
            "image/png": "[encoded data removed]",
            "text/plain": [
              "<Figure size 300x200 with 1 Axes>"
            ]
          },
          "metadata": {},
          "output_type": "display_data"
        },
        {
          "name": "stdout",
          "output_type": "stream",
          "text": [
            "Fitting 5 folds for each of 225 candidates, totalling 1125 fits\n",
            "AUC Score / W2V embeddings_mean: 0.4588509316770186\n",
            "Classification report and confusion matrix: random forest classifier / W2V embeddings_mean\n",
            "              precision    recall  f1-score   support\n",
            "\n",
            "           0       0.42      0.74      0.54        23\n",
            "           1       0.45      0.18      0.26        28\n",
            "\n",
            "    accuracy                           0.43        51\n",
            "   macro avg       0.44      0.46      0.40        51\n",
            "weighted avg       0.44      0.43      0.38        51\n",
            "\n",
            "Best hyperparameters:\n",
            "{'max_depth': None, 'min_samples_leaf': 2, 'min_samples_split': 2, 'n_estimators': 50}\n"
          ]
        },
        {
          "data": {
            "image/png": "[encoded data removed]",
            "text/plain": [
              "<Figure size 300x200 with 1 Axes>"
            ]
          },
          "metadata": {},
          "output_type": "display_data"
        },
        {
          "name": "stdout",
          "output_type": "stream",
          "text": [
            "Fitting 5 folds for each of 225 candidates, totalling 1125 fits\n",
            "AUC Score / bag of words: 0.4782608695652174\n",
            "Classification report and confusion matrix: random forest classifier / bag of words\n",
            "              precision    recall  f1-score   support\n",
            "\n",
            "           0       0.44      0.96      0.60        23\n",
            "           1       0.00      0.00      0.00        28\n",
            "\n",
            "    accuracy                           0.43        51\n",
            "   macro avg       0.22      0.48      0.30        51\n",
            "weighted avg       0.20      0.43      0.27        51\n",
            "\n",
            "Best hyperparameters:\n",
            "{'max_depth': None, 'min_samples_leaf': 4, 'min_samples_split': 2, 'n_estimators': 200}\n"
          ]
        },
        {
          "data": {
            "image/png": "[encoded data removed]",
            "text/plain": [
              "<Figure size 300x200 with 1 Axes>"
            ]
          },
          "metadata": {},
          "output_type": "display_data"
        },
        {
          "name": "stdout",
          "output_type": "stream",
          "text": [
            "Fitting 5 folds for each of 225 candidates, totalling 1125 fits\n",
            "AUC Score / bag of words_tfidf: 0.4782608695652174\n",
            "Classification report and confusion matrix: random forest classifier / bag of words_tfidf\n",
            "              precision    recall  f1-score   support\n",
            "\n",
            "           0       0.44      0.96      0.60        23\n",
            "           1       0.00      0.00      0.00        28\n",
            "\n",
            "    accuracy                           0.43        51\n",
            "   macro avg       0.22      0.48      0.30        51\n",
            "weighted avg       0.20      0.43      0.27        51\n",
            "\n",
            "Best hyperparameters:\n",
            "{'max_depth': None, 'min_samples_leaf': 4, 'min_samples_split': 2, 'n_estimators': 200}\n"
          ]
        },
        {
          "data": {
            "image/png": "[encoded data removed]",
            "text/plain": [
              "<Figure size 300x200 with 1 Axes>"
            ]
          },
          "metadata": {},
          "output_type": "display_data"
        },
        {
          "name": "stdout",
          "output_type": "stream",
          "text": [
            "Fitting 5 folds for each of 225 candidates, totalling 1125 fits\n",
            "AUC Score / average sentiment score: 0.36024844720496896\n",
            "Classification report and confusion matrix: random forest classifier / average sentiment score\n",
            "              precision    recall  f1-score   support\n",
            "\n",
            "           0       0.33      0.43      0.38        23\n",
            "           1       0.38      0.29      0.33        28\n",
            "\n",
            "    accuracy                           0.35        51\n",
            "   macro avg       0.36      0.36      0.35        51\n",
            "weighted avg       0.36      0.35      0.35        51\n",
            "\n",
            "Best hyperparameters:\n",
            "{'max_depth': None, 'min_samples_leaf': 1, 'min_samples_split': 2, 'n_estimators': 50}\n"
          ]
        },
        {
          "data": {
            "image/png": "[encoded data removed]",
            "text/plain": [
              "<Figure size 300x200 with 1 Axes>"
            ]
          },
          "metadata": {},
          "output_type": "display_data"
        }
      ],
      "source": [
        "# Calculate data preprocessing, X and y over all nlp_models\n",
        "for nlp_model in nlp_models: \n",
        "    df_BERT, _, _ = data_preprocessing(column_name=nlp_model)\n",
        "    _, X, _ = data_preprocessing(column_name=nlp_model)\n",
        "    if nlp_model == 'average sentiment score': #for sentiment column, X has to be reshaped, since only one input feature\n",
        "        X = X.reshape(-1, 1)\n",
        "    _, _, y = data_preprocessing(column_name=nlp_model)\n",
        "\n",
        "    X_train, X_test, y_train, y_test = train_test_split(X, y, test_size=0.2, random_state=42, shuffle=True)\n",
        "\n",
        "    base_clf = RandomForestClassifier(random_state=42)\n",
        "    grid_search = GridSearchCV(estimator=base_clf, param_grid=param_grid_rf, cv=5, verbose=1, n_jobs=-1, error_score='raise')\n",
        "    grid_search.fit(X_train, y_train)\n",
        "    \n",
        "    # Best combination of hyperparameters\n",
        "    best_clf = grid_search.best_estimator_\n",
        "    best_params = grid_search.best_params_\n",
        "\n",
        "    # Make predictions on the test set\n",
        "    y_pred = best_clf.predict(X_test)\n",
        "    y_pred_train = best_clf.predict(X_train)\n",
        "\n",
        "    accuracy_train = accuracy_score(y_train, y_pred_train)\n",
        "    accuracy_test = accuracy_score(y_test, y_pred)\n",
        "    auc_score = roc_auc_score(y_test, y_pred)\n",
        "\n",
        "    # Add accuracy, AUC and test to result table\n",
        "    accuracy_df[nlp_model]['random forest'] = accuracy_test\n",
        "    AUC_df[nlp_model]['random forest'] = auc_score\n",
        "    train_df[nlp_model]['random forest'] = accuracy_train\n",
        "\n",
        "    # Evaluate the performance of the model\n",
        "    print(f\"AUC Score / {nlp_model}:\", auc_score)\n",
        "    print(f\"Classification report and confusion matrix: random forest classifier / {nlp_model}\")\n",
        "    print(classification_report(y_test, y_pred))\n",
        "    print(\"Best hyperparameters:\")\n",
        "    print(grid_search.best_params_)\n",
        "    \n",
        "    cm = confusion_matrix(y_test, y_pred)\n",
        "    plt.figure(figsize=(3, 2))\n",
        "    sns.heatmap(cm, annot=True, fmt='d', cmap='Blues', cbar=False, square=True, xticklabels=[0, 1], yticklabels=[0, 1])\n",
        "    plt.xlabel('Predicted Label')\n",
        "    plt.ylabel('True Label')\n",
        "    plt.show()"
      ]
    },
    {
      "attachments": {},
      "cell_type": "markdown",
      "id": "94178dd4",
      "metadata": {
        "id": "94178dd4"
      },
      "source": [
        "## Logistic regression model\n",
        "with GridSearch for balanced and unbalanced class weights (cost-sensitive learning to rebalance the dataset)"
      ]
    },
    {
      "cell_type": "code",
      "execution_count": 15,
      "id": "6772d6cf",
      "metadata": {
        "id": "6772d6cf"
      },
      "outputs": [],
      "source": [
        "param_grid_lr = {\n",
        "    'class_weight': [None, 'balanced'],\n",
        "    'C': [0.1, 1, 10, 100],\n",
        "}"
      ]
    },
    {
      "cell_type": "code",
      "execution_count": 16,
      "id": "66fb2bf1",
      "metadata": {
        "id": "66fb2bf1",
        "outputId": "d1eb7961-117b-406a-da34-9e987295b980"
      },
      "outputs": [
        {
          "name": "stdout",
          "output_type": "stream",
          "text": [
            "Fitting 5 folds for each of 8 candidates, totalling 40 fits\n",
            "AUC Score / BERT embeddings_mean: 0.5186335403726708\n",
            "Classification report and confusion matrix: logistic regression / BERT embeddings_mean\n",
            "              precision    recall  f1-score   support\n",
            "\n",
            "           0       0.47      0.61      0.53        23\n",
            "           1       0.57      0.43      0.49        28\n",
            "\n",
            "    accuracy                           0.51        51\n",
            "   macro avg       0.52      0.52      0.51        51\n",
            "weighted avg       0.52      0.51      0.51        51\n",
            "\n",
            "Best hyperparameters:\n",
            "{'C': 100, 'class_weight': 'balanced'}\n"
          ]
        },
        {
          "name": "stderr",
          "output_type": "stream",
          "text": [
            "c:\\Users\\flori\\anaconda3\\lib\\site-packages\\sklearn\\linear_model\\_logistic.py:814: ConvergenceWarning: lbfgs failed to converge (status=1):\n",
            "STOP: TOTAL NO. of ITERATIONS REACHED LIMIT.\n",
            "\n",
            "Increase the number of iterations (max_iter) or scale the data as shown in:\n",
            "    https://scikit-learn.org/stable/modules/preprocessing.html\n",
            "Please also refer to the documentation for alternative solver options:\n",
            "    https://scikit-learn.org/stable/modules/linear_model.html#logistic-regression\n",
            "  n_iter_i = _check_optimize_result(\n"
          ]
        },
        {
          "data": {
            "image/png": "[encoded data removed]",
            "text/plain": [
              "<Figure size 300x200 with 1 Axes>"
            ]
          },
          "metadata": {},
          "output_type": "display_data"
        },
        {
          "name": "stdout",
          "output_type": "stream",
          "text": [
            "Fitting 5 folds for each of 8 candidates, totalling 40 fits\n",
            "AUC Score / W2V embeddings_mean: 0.5186335403726708\n",
            "Classification report and confusion matrix: logistic regression / W2V embeddings_mean\n",
            "              precision    recall  f1-score   support\n",
            "\n",
            "           0       0.47      0.61      0.53        23\n",
            "           1       0.57      0.43      0.49        28\n",
            "\n",
            "    accuracy                           0.51        51\n",
            "   macro avg       0.52      0.52      0.51        51\n",
            "weighted avg       0.52      0.51      0.51        51\n",
            "\n",
            "Best hyperparameters:\n",
            "{'C': 100, 'class_weight': 'balanced'}\n"
          ]
        },
        {
          "data": {
            "image/png": "[encoded data removed]",
            "text/plain": [
              "<Figure size 300x200 with 1 Axes>"
            ]
          },
          "metadata": {},
          "output_type": "display_data"
        },
        {
          "name": "stdout",
          "output_type": "stream",
          "text": [
            "Fitting 5 folds for each of 8 candidates, totalling 40 fits\n",
            "AUC Score / bag of words: 0.5225155279503105\n",
            "Classification report and confusion matrix: logistic regression / bag of words\n",
            "              precision    recall  f1-score   support\n",
            "\n",
            "           0       0.47      0.65      0.55        23\n",
            "           1       0.58      0.39      0.47        28\n",
            "\n",
            "    accuracy                           0.51        51\n",
            "   macro avg       0.52      0.52      0.51        51\n",
            "weighted avg       0.53      0.51      0.50        51\n",
            "\n",
            "Best hyperparameters:\n",
            "{'C': 100, 'class_weight': None}\n"
          ]
        },
        {
          "name": "stderr",
          "output_type": "stream",
          "text": [
            "c:\\Users\\flori\\anaconda3\\lib\\site-packages\\sklearn\\linear_model\\_logistic.py:814: ConvergenceWarning: lbfgs failed to converge (status=1):\n",
            "STOP: TOTAL NO. of ITERATIONS REACHED LIMIT.\n",
            "\n",
            "Increase the number of iterations (max_iter) or scale the data as shown in:\n",
            "    https://scikit-learn.org/stable/modules/preprocessing.html\n",
            "Please also refer to the documentation for alternative solver options:\n",
            "    https://scikit-learn.org/stable/modules/linear_model.html#logistic-regression\n",
            "  n_iter_i = _check_optimize_result(\n"
          ]
        },
        {
          "data": {
            "image/png": "[encoded data removed]",
            "text/plain": [
              "<Figure size 300x200 with 1 Axes>"
            ]
          },
          "metadata": {},
          "output_type": "display_data"
        },
        {
          "name": "stdout",
          "output_type": "stream",
          "text": [
            "Fitting 5 folds for each of 8 candidates, totalling 40 fits\n",
            "AUC Score / bag of words_tfidf: 0.5597826086956521\n",
            "Classification report and confusion matrix: logistic regression / bag of words_tfidf\n",
            "              precision    recall  f1-score   support\n",
            "\n",
            "           0       0.49      0.87      0.62        23\n",
            "           1       0.70      0.25      0.37        28\n",
            "\n",
            "    accuracy                           0.53        51\n",
            "   macro avg       0.59      0.56      0.50        51\n",
            "weighted avg       0.60      0.53      0.48        51\n",
            "\n",
            "Best hyperparameters:\n",
            "{'C': 1, 'class_weight': None}\n"
          ]
        },
        {
          "name": "stderr",
          "output_type": "stream",
          "text": [
            "c:\\Users\\flori\\anaconda3\\lib\\site-packages\\sklearn\\linear_model\\_logistic.py:814: ConvergenceWarning: lbfgs failed to converge (status=1):\n",
            "STOP: TOTAL NO. of ITERATIONS REACHED LIMIT.\n",
            "\n",
            "Increase the number of iterations (max_iter) or scale the data as shown in:\n",
            "    https://scikit-learn.org/stable/modules/preprocessing.html\n",
            "Please also refer to the documentation for alternative solver options:\n",
            "    https://scikit-learn.org/stable/modules/linear_model.html#logistic-regression\n",
            "  n_iter_i = _check_optimize_result(\n"
          ]
        },
        {
          "data": {
            "image/png": "[encoded data removed]",
            "text/plain": [
              "<Figure size 300x200 with 1 Axes>"
            ]
          },
          "metadata": {},
          "output_type": "display_data"
        },
        {
          "name": "stdout",
          "output_type": "stream",
          "text": [
            "Fitting 5 folds for each of 8 candidates, totalling 40 fits\n",
            "AUC Score / average sentiment score: 0.5139751552795031\n",
            "Classification report and confusion matrix: logistic regression / average sentiment score\n",
            "              precision    recall  f1-score   support\n",
            "\n",
            "           0       0.46      0.96      0.62        23\n",
            "           1       0.67      0.07      0.13        28\n",
            "\n",
            "    accuracy                           0.47        51\n",
            "   macro avg       0.56      0.51      0.37        51\n",
            "weighted avg       0.57      0.47      0.35        51\n",
            "\n",
            "Best hyperparameters:\n",
            "{'C': 1, 'class_weight': None}\n"
          ]
        },
        {
          "data": {
            "image/png": "[encoded data removed]",
            "text/plain": [
              "<Figure size 300x200 with 1 Axes>"
            ]
          },
          "metadata": {},
          "output_type": "display_data"
        }
      ],
      "source": [
        "# Calculate data preprocessing, X and y over all nlp_models\n",
        "for nlp_model in nlp_models: \n",
        "    df_BERT, _, _ = data_preprocessing(column_name=nlp_model)\n",
        "    _, X, _ = data_preprocessing(column_name=nlp_model)\n",
        "    if nlp_model == 'average sentiment score': #for sentiment column, X has to be reshaped, since only one input feature\n",
        "        X = X.reshape(-1, 1)\n",
        "    _, _, y = data_preprocessing(column_name=nlp_model)\n",
        "\n",
        "    X_train, X_test, y_train, y_test = train_test_split(X, y, test_size=0.2, random_state=42, shuffle=True)\n",
        "\n",
        "    base_clf = LogisticRegression(random_state=42)\n",
        "    grid_search = GridSearchCV(estimator=base_clf, param_grid=param_grid_lr, cv=5, verbose=1, n_jobs=-1)\n",
        "    grid_search.fit(X_train, y_train)\n",
        "\n",
        "    # Best combination of hyperparameters\n",
        "    best_clf = grid_search.best_estimator_\n",
        "    best_params = grid_search.best_params_\n",
        "\n",
        "    # Make predictions on the test set\n",
        "    y_pred = best_clf.predict(X_test)\n",
        "    y_pred_train = best_clf.predict(X_train)\n",
        "\n",
        "    accuracy_train = accuracy_score(y_train, y_pred_train)\n",
        "    accuracy_test = accuracy_score(y_test, y_pred)\n",
        "    auc_score = roc_auc_score(y_test, y_pred)\n",
        "\n",
        "    # Add accuracy, AUC and test to result table\n",
        "    accuracy_df[nlp_model]['logistic regression'] = accuracy_test\n",
        "    AUC_df[nlp_model]['logistic regression'] = auc_score\n",
        "    train_df[nlp_model]['logistic regression'] = accuracy_train\n",
        "\n",
        "    # Evaluate the performance of the model\n",
        "    print(f\"AUC Score / {nlp_model}:\", auc_score)\n",
        "    print(f\"Classification report and confusion matrix: logistic regression / {nlp_model}\")\n",
        "    print(classification_report(y_test, y_pred))\n",
        "    print(\"Best hyperparameters:\")\n",
        "    print(grid_search.best_params_)\n",
        "    \n",
        "    cm = confusion_matrix(y_test, y_pred)\n",
        "    plt.figure(figsize=(3, 2))\n",
        "    sns.heatmap(cm, annot=True, fmt='d', cmap='Blues', cbar=False, square=True, xticklabels=[0, 1], yticklabels=[0, 1])\n",
        "    plt.xlabel('Predicted Label')\n",
        "    plt.ylabel('True Label')\n",
        "    plt.show()"
      ]
    },
    {
      "attachments": {},
      "cell_type": "markdown",
      "id": "50c626ad",
      "metadata": {
        "id": "50c626ad"
      },
      "source": [
        "## Support Vector Machines model\n",
        "with GridSearch"
      ]
    },
    {
      "cell_type": "code",
      "execution_count": 17,
      "id": "8163e552",
      "metadata": {
        "id": "8163e552"
      },
      "outputs": [],
      "source": [
        "param_grid_svm = {\n",
        "    'C': [0.1, 1, 10, 100],\n",
        "    'kernel': ['linear', 'poly', 'rbf', 'sigmoid'],\n",
        "    'degree': [2, 3, 4],  \n",
        "    'gamma': ['scale', 'auto'],\n",
        "    'coef0': [0, 1, 2, 3]  \n",
        "}"
      ]
    },
    {
      "cell_type": "code",
      "execution_count": 18,
      "id": "9cb8fd16",
      "metadata": {
        "id": "9cb8fd16",
        "outputId": "9d6a9a0d-148c-4a26-8d92-06ac9ae90c70"
      },
      "outputs": [
        {
          "name": "stdout",
          "output_type": "stream",
          "text": [
            "Fitting 5 folds for each of 384 candidates, totalling 1920 fits\n",
            "AUC Score / BERT embeddings_mean: 0.5147515527950312\n",
            "Classification report and confusion matrix: support vector machine / BERT embeddings_mean\n",
            "              precision    recall  f1-score   support\n",
            "\n",
            "           0       0.46      0.57      0.51        23\n",
            "           1       0.57      0.46      0.51        28\n",
            "\n",
            "    accuracy                           0.51        51\n",
            "   macro avg       0.51      0.51      0.51        51\n",
            "weighted avg       0.52      0.51      0.51        51\n",
            "\n",
            "Best hyperparameters:\n",
            "{'C': 100, 'coef0': 3, 'degree': 4, 'gamma': 'scale', 'kernel': 'poly'}\n"
          ]
        },
        {
          "data": {
            "image/png": "[encoded data removed]",
            "text/plain": [
              "<Figure size 300x200 with 1 Axes>"
            ]
          },
          "metadata": {},
          "output_type": "display_data"
        },
        {
          "name": "stdout",
          "output_type": "stream",
          "text": [
            "Fitting 5 folds for each of 384 candidates, totalling 1920 fits\n",
            "AUC Score / W2V embeddings_mean: 0.48680124223602483\n",
            "Classification report and confusion matrix: support vector machine / W2V embeddings_mean\n",
            "              precision    recall  f1-score   support\n",
            "\n",
            "           0       0.44      0.65      0.53        23\n",
            "           1       0.53      0.32      0.40        28\n",
            "\n",
            "    accuracy                           0.47        51\n",
            "   macro avg       0.49      0.49      0.46        51\n",
            "weighted avg       0.49      0.47      0.46        51\n",
            "\n",
            "Best hyperparameters:\n",
            "{'C': 10, 'coef0': 1, 'degree': 3, 'gamma': 'scale', 'kernel': 'poly'}\n"
          ]
        },
        {
          "data": {
            "image/png": "[encoded data removed]",
            "text/plain": [
              "<Figure size 300x200 with 1 Axes>"
            ]
          },
          "metadata": {},
          "output_type": "display_data"
        },
        {
          "name": "stdout",
          "output_type": "stream",
          "text": [
            "Fitting 5 folds for each of 384 candidates, totalling 1920 fits\n",
            "AUC Score / bag of words: 0.4984472049689441\n",
            "Classification report and confusion matrix: support vector machine / bag of words\n",
            "              precision    recall  f1-score   support\n",
            "\n",
            "           0       0.45      0.78      0.57        23\n",
            "           1       0.55      0.21      0.31        28\n",
            "\n",
            "    accuracy                           0.47        51\n",
            "   macro avg       0.50      0.50      0.44        51\n",
            "weighted avg       0.50      0.47      0.43        51\n",
            "\n",
            "Best hyperparameters:\n",
            "{'C': 100, 'coef0': 1, 'degree': 2, 'gamma': 'auto', 'kernel': 'sigmoid'}\n"
          ]
        },
        {
          "data": {
            "image/png": "[encoded data removed]",
            "text/plain": [
              "<Figure size 300x200 with 1 Axes>"
            ]
          },
          "metadata": {},
          "output_type": "display_data"
        },
        {
          "name": "stdout",
          "output_type": "stream",
          "text": [
            "Fitting 5 folds for each of 384 candidates, totalling 1920 fits\n",
            "AUC Score / bag of words_tfidf: 0.5380434782608695\n",
            "Classification report and confusion matrix: support vector machine / bag of words_tfidf\n",
            "              precision    recall  f1-score   support\n",
            "\n",
            "           0       0.47      0.83      0.60        23\n",
            "           1       0.64      0.25      0.36        28\n",
            "\n",
            "    accuracy                           0.51        51\n",
            "   macro avg       0.56      0.54      0.48        51\n",
            "weighted avg       0.56      0.51      0.47        51\n",
            "\n",
            "Best hyperparameters:\n",
            "{'C': 1, 'coef0': 3, 'degree': 2, 'gamma': 'auto', 'kernel': 'poly'}\n"
          ]
        },
        {
          "data": {
            "image/png": "[encoded data removed]",
            "text/plain": [
              "<Figure size 300x200 with 1 Axes>"
            ]
          },
          "metadata": {},
          "output_type": "display_data"
        },
        {
          "name": "stdout",
          "output_type": "stream",
          "text": [
            "Fitting 5 folds for each of 384 candidates, totalling 1920 fits\n",
            "AUC Score / average sentiment score: 0.5100931677018634\n",
            "Classification report and confusion matrix: support vector machine / average sentiment score\n",
            "              precision    recall  f1-score   support\n",
            "\n",
            "           0       0.46      0.91      0.61        23\n",
            "           1       0.60      0.11      0.18        28\n",
            "\n",
            "    accuracy                           0.47        51\n",
            "   macro avg       0.53      0.51      0.40        51\n",
            "weighted avg       0.54      0.47      0.37        51\n",
            "\n",
            "Best hyperparameters:\n",
            "{'C': 0.1, 'coef0': 0, 'degree': 2, 'gamma': 'scale', 'kernel': 'sigmoid'}\n"
          ]
        },
        {
          "data": {
            "image/png": "[encoded data removed]",
            "text/plain": [
              "<Figure size 300x200 with 1 Axes>"
            ]
          },
          "metadata": {},
          "output_type": "display_data"
        }
      ],
      "source": [
        "# Calculate data preprocessing, X and y over all nlp_models\n",
        "for nlp_model in nlp_models: \n",
        "    df_BERT, _, _ = data_preprocessing(column_name=nlp_model)\n",
        "    _, X, _ = data_preprocessing(column_name=nlp_model)\n",
        "    if nlp_model == 'average sentiment score': #for sentiment column, X has to be reshaped, since only one input feature\n",
        "        X = X.reshape(-1, 1)\n",
        "    _, _, y = data_preprocessing(column_name=nlp_model)\n",
        "\n",
        "    X_train, X_test, y_train, y_test = train_test_split(X, y, test_size=0.2, random_state=42, shuffle=True)\n",
        "\n",
        "    base_clf = SVC(random_state=42)\n",
        "    grid_search = GridSearchCV(estimator=base_clf, param_grid=param_grid_svm, cv=5, verbose=1, n_jobs=-1)\n",
        "    grid_search.fit(X_train, y_train)\n",
        "\n",
        "    # Best combination of hyperparameters\n",
        "    best_clf = grid_search.best_estimator_\n",
        "    best_params = grid_search.best_params_\n",
        "\n",
        "    # Make predictions on the test set\n",
        "    y_pred = best_clf.predict(X_test)\n",
        "    y_pred_train = best_clf.predict(X_train)\n",
        "\n",
        "    accuracy_train = accuracy_score(y_train, y_pred_train)\n",
        "    accuracy_test = accuracy_score(y_test, y_pred)\n",
        "    auc_score = roc_auc_score(y_test, y_pred)\n",
        "\n",
        "    # Add accuracy, AUC and test to result table\n",
        "    accuracy_df[nlp_model]['support vector machine'] = accuracy_test\n",
        "    AUC_df[nlp_model]['support vector machine'] = auc_score\n",
        "    train_df[nlp_model]['support vector machine'] = accuracy_train\n",
        "\n",
        "    # Evaluate the performance of the model\n",
        "    print(f\"AUC Score / {nlp_model}:\", auc_score)\n",
        "    print(f\"Classification report and confusion matrix: support vector machine / {nlp_model}\")\n",
        "    print(classification_report(y_test, y_pred))\n",
        "    print(\"Best hyperparameters:\")\n",
        "    print(grid_search.best_params_)\n",
        "    \n",
        "    cm = confusion_matrix(y_test, y_pred)\n",
        "    plt.figure(figsize=(3, 2))\n",
        "    sns.heatmap(cm, annot=True, fmt='d', cmap='Blues', cbar=False, square=True, xticklabels=[0, 1], yticklabels=[0, 1])\n",
        "    plt.xlabel('Predicted Label')\n",
        "    plt.ylabel('True Label')\n",
        "    plt.show()\n",
        "    "
      ]
    },
    {
      "attachments": {},
      "cell_type": "markdown",
      "id": "0060ddc4",
      "metadata": {},
      "source": [
        "## XGBoost Classifier"
      ]
    },
    {
      "cell_type": "code",
      "execution_count": 19,
      "id": "a1a11280",
      "metadata": {},
      "outputs": [],
      "source": [
        "param_grid_xgb = {\n",
        "    'n_estimators': [10, 50, 100, 200, 300],\n",
        "    'max_depth': [None, 5, 6, 10, 20, 30],\n",
        "    'learning_rate': [0.1, 0.3],\n",
        "}"
      ]
    },
    {
      "cell_type": "code",
      "execution_count": 20,
      "id": "21a0f4c7",
      "metadata": {},
      "outputs": [
        {
          "name": "stdout",
          "output_type": "stream",
          "text": [
            "Fitting 5 folds for each of 60 candidates, totalling 300 fits\n",
            "AUC Score / BERT embeddings_mean: 0.41149068322981364\n",
            "Classification report and confusion matrix: xgboost / BERT embeddings_mean\n",
            "              precision    recall  f1-score   support\n",
            "\n",
            "           0       0.39      0.61      0.47        23\n",
            "           1       0.40      0.21      0.28        28\n",
            "\n",
            "    accuracy                           0.39        51\n",
            "   macro avg       0.39      0.41      0.38        51\n",
            "weighted avg       0.39      0.39      0.37        51\n",
            "\n",
            "Best hyperparameters:\n",
            "{'learning_rate': 0.3, 'max_depth': None, 'n_estimators': 50}\n"
          ]
        },
        {
          "data": {
            "image/png": "[encoded data removed]",
            "text/plain": [
              "<Figure size 300x200 with 1 Axes>"
            ]
          },
          "metadata": {},
          "output_type": "display_data"
        },
        {
          "name": "stdout",
          "output_type": "stream",
          "text": [
            "Fitting 5 folds for each of 60 candidates, totalling 300 fits\n",
            "AUC Score / W2V embeddings_mean: 0.5147515527950312\n",
            "Classification report and confusion matrix: xgboost / W2V embeddings_mean\n",
            "              precision    recall  f1-score   support\n",
            "\n",
            "           0       0.46      0.57      0.51        23\n",
            "           1       0.57      0.46      0.51        28\n",
            "\n",
            "    accuracy                           0.51        51\n",
            "   macro avg       0.51      0.51      0.51        51\n",
            "weighted avg       0.52      0.51      0.51        51\n",
            "\n",
            "Best hyperparameters:\n",
            "{'learning_rate': 0.3, 'max_depth': 10, 'n_estimators': 200}\n"
          ]
        },
        {
          "data": {
            "image/png": "[encoded data removed]",
            "text/plain": [
              "<Figure size 300x200 with 1 Axes>"
            ]
          },
          "metadata": {},
          "output_type": "display_data"
        },
        {
          "name": "stdout",
          "output_type": "stream",
          "text": [
            "Fitting 5 folds for each of 60 candidates, totalling 300 fits\n",
            "AUC Score / bag of words: 0.6118012422360248\n",
            "Classification report and confusion matrix: xgboost / bag of words\n",
            "              precision    recall  f1-score   support\n",
            "\n",
            "           0       0.56      0.65      0.60        23\n",
            "           1       0.67      0.57      0.62        28\n",
            "\n",
            "    accuracy                           0.61        51\n",
            "   macro avg       0.61      0.61      0.61        51\n",
            "weighted avg       0.62      0.61      0.61        51\n",
            "\n",
            "Best hyperparameters:\n",
            "{'learning_rate': 0.1, 'max_depth': 5, 'n_estimators': 200}\n"
          ]
        },
        {
          "data": {
            "image/png": "[encoded data removed]",
            "text/plain": [
              "<Figure size 300x200 with 1 Axes>"
            ]
          },
          "metadata": {},
          "output_type": "display_data"
        },
        {
          "name": "stdout",
          "output_type": "stream",
          "text": [
            "Fitting 5 folds for each of 60 candidates, totalling 300 fits\n"
          ]
        }
      ],
      "source": [
        "# Calculate data preprocessing, X and y over all nlp_models\n",
        "for nlp_model in nlp_models: \n",
        "    df_BERT, _, _ = data_preprocessing(column_name=nlp_model)\n",
        "    _, X, _ = data_preprocessing(column_name=nlp_model)\n",
        "    if nlp_model == 'average sentiment score': #for sentiment column, X has to be reshaped, since only one input feature\n",
        "        X = X.reshape(-1, 1)\n",
        "    _, _, y = data_preprocessing(column_name=nlp_model)\n",
        "\n",
        "    X_train, X_test, y_train, y_test = train_test_split(X, y, test_size=0.2, random_state=42, shuffle=True)\n",
        "\n",
        "    base_clf = xgb.XGBClassifier(random_state=42)\n",
        "    grid_search = GridSearchCV(estimator=base_clf, param_grid=param_grid_xgb, cv=5, verbose=1, n_jobs=-1)\n",
        "    grid_search.fit(X_train, y_train)\n",
        "    \n",
        "    # Best combination of hyperparameters\n",
        "    best_clf = grid_search.best_estimator_\n",
        "    best_params = grid_search.best_params_\n",
        "\n",
        "    # Make predictions on the test set\n",
        "    y_pred = best_clf.predict(X_test)\n",
        "    y_pred_train = best_clf.predict(X_train)\n",
        "\n",
        "    accuracy_train = accuracy_score(y_train, y_pred_train)\n",
        "    accuracy_test = accuracy_score(y_test, y_pred)\n",
        "    auc_score = roc_auc_score(y_test, y_pred)\n",
        "\n",
        "    # Add accuracy, AUC and test to result table\n",
        "    accuracy_df[nlp_model]['xgboost'] = accuracy_test\n",
        "    AUC_df[nlp_model]['xgboost'] = auc_score\n",
        "    train_df[nlp_model]['xgboost'] = accuracy_train\n",
        "\n",
        "    # Evaluate the performance of the model\n",
        "    print(f\"AUC Score / {nlp_model}:\", auc_score)\n",
        "    print(f\"Classification report and confusion matrix: xgboost / {nlp_model}\")\n",
        "    print(classification_report(y_test, y_pred))\n",
        "    print(\"Best hyperparameters:\")\n",
        "    print(grid_search.best_params_)\n",
        "    \n",
        "    cm = confusion_matrix(y_test, y_pred)\n",
        "    plt.figure(figsize=(3, 2))\n",
        "    sns.heatmap(cm, annot=True, fmt='d', cmap='Blues', cbar=False, square=True, xticklabels=[0, 1], yticklabels=[0, 1])\n",
        "    plt.xlabel('Predicted Label')\n",
        "    plt.ylabel('True Label')\n",
        "    plt.show()"
      ]
    },
    {
      "attachments": {},
      "cell_type": "markdown",
      "id": "bf0fa694",
      "metadata": {},
      "source": [
        "## Output"
      ]
    },
    {
      "cell_type": "code",
      "execution_count": null,
      "id": "649df855",
      "metadata": {
        "id": "649df855",
        "outputId": "25198969-b89f-494f-cb96-8a4fa890b9c2"
      },
      "outputs": [
        {
          "ename": "NameError",
          "evalue": "name 'accuracy_df' is not defined",
          "output_type": "error",
          "traceback": [
            "\u001b[1;31m---------------------------------------------------------------------------\u001b[0m",
            "\u001b[1;31mNameError\u001b[0m                                 Traceback (most recent call last)",
            "\u001b[1;32m~\\AppData\\Local\\Temp\\ipykernel_4012\\257732153.py\u001b[0m in \u001b[0;36m<module>\u001b[1;34m\u001b[0m\n\u001b[1;32m----> 1\u001b[1;33m \u001b[0mprint\u001b[0m\u001b[1;33m(\u001b[0m\u001b[0maccuracy_df\u001b[0m\u001b[1;33m)\u001b[0m\u001b[1;33m\u001b[0m\u001b[1;33m\u001b[0m\u001b[0m\n\u001b[0m",
            "\u001b[1;31mNameError\u001b[0m: name 'accuracy_df' is not defined"
          ]
        }
      ],
      "source": [
        "accuracy_df\n",
        "accuracy_df.to_csv('accuracy.csv', index=False)"
      ]
    },
    {
      "cell_type": "code",
      "execution_count": null,
      "id": "b787ab14",
      "metadata": {},
      "outputs": [
        {
          "data": {
            "text/html": [
              "<div>\n",
              "<style scoped>\n",
              "    .dataframe tbody tr th:only-of-type {\n",
              "        vertical-align: middle;\n",
              "    }\n",
              "\n",
              "    .dataframe tbody tr th {\n",
              "        vertical-align: top;\n",
              "    }\n",
              "\n",
              "    .dataframe thead th {\n",
              "        text-align: right;\n",
              "    }\n",
              "</style>\n",
              "<table border=\"1\" class=\"dataframe\">\n",
              "  <thead>\n",
              "    <tr style=\"text-align: right;\">\n",
              "      <th></th>\n",
              "      <th>BERT embeddings_mean</th>\n",
              "      <th>W2V embeddings_mean</th>\n",
              "      <th>bag of words</th>\n",
              "      <th>bag of words_tfidf</th>\n",
              "      <th>average sentiment score</th>\n",
              "    </tr>\n",
              "  </thead>\n",
              "  <tbody>\n",
              "    <tr>\n",
              "      <th>dummy classifier</th>\n",
              "      <td>0.540373</td>\n",
              "      <td>0.540373</td>\n",
              "      <td>0.540373</td>\n",
              "      <td>0.540373</td>\n",
              "      <td>0.540373</td>\n",
              "    </tr>\n",
              "    <tr>\n",
              "      <th>random forest</th>\n",
              "      <td>0.447205</td>\n",
              "      <td>0.458851</td>\n",
              "      <td>0.478261</td>\n",
              "      <td>0.478261</td>\n",
              "      <td>0.360248</td>\n",
              "    </tr>\n",
              "    <tr>\n",
              "      <th>logistic regression</th>\n",
              "      <td>0.518634</td>\n",
              "      <td>0.518634</td>\n",
              "      <td>0.522516</td>\n",
              "      <td>0.559783</td>\n",
              "      <td>0.513975</td>\n",
              "    </tr>\n",
              "    <tr>\n",
              "      <th>support vector machine</th>\n",
              "      <td>0.514752</td>\n",
              "      <td>0.486801</td>\n",
              "      <td>0.498447</td>\n",
              "      <td>0.538043</td>\n",
              "      <td>0.510093</td>\n",
              "    </tr>\n",
              "    <tr>\n",
              "      <th>xgboost</th>\n",
              "      <td>0.411491</td>\n",
              "      <td>0.514752</td>\n",
              "      <td>0.611801</td>\n",
              "      <td>0.611801</td>\n",
              "      <td>0.346273</td>\n",
              "    </tr>\n",
              "  </tbody>\n",
              "</table>\n",
              "</div>"
            ],
            "text/plain": [
              "                       BERT embeddings_mean W2V embeddings_mean bag of words  \\\n",
              "dummy classifier                   0.540373            0.540373     0.540373   \n",
              "random forest                      0.447205            0.458851     0.478261   \n",
              "logistic regression                0.518634            0.518634     0.522516   \n",
              "support vector machine             0.514752            0.486801     0.498447   \n",
              "xgboost                            0.411491            0.514752     0.611801   \n",
              "\n",
              "                       bag of words_tfidf average sentiment score  \n",
              "dummy classifier                 0.540373                0.540373  \n",
              "random forest                    0.478261                0.360248  \n",
              "logistic regression              0.559783                0.513975  \n",
              "support vector machine           0.538043                0.510093  \n",
              "xgboost                          0.611801                0.346273  "
            ]
          },
          "execution_count": 52,
          "metadata": {},
          "output_type": "execute_result"
        }
      ],
      "source": [
        "AUC_df\n",
        "AUC_df.to_csv('AUC.csv', index=False)"
      ]
    },
    {
      "cell_type": "code",
      "execution_count": null,
      "id": "0eb78c53",
      "metadata": {},
      "outputs": [
        {
          "data": {
            "text/html": [
              "<div>\n",
              "<style scoped>\n",
              "    .dataframe tbody tr th:only-of-type {\n",
              "        vertical-align: middle;\n",
              "    }\n",
              "\n",
              "    .dataframe tbody tr th {\n",
              "        vertical-align: top;\n",
              "    }\n",
              "\n",
              "    .dataframe thead th {\n",
              "        text-align: right;\n",
              "    }\n",
              "</style>\n",
              "<table border=\"1\" class=\"dataframe\">\n",
              "  <thead>\n",
              "    <tr style=\"text-align: right;\">\n",
              "      <th></th>\n",
              "      <th>BERT embeddings_mean</th>\n",
              "      <th>W2V embeddings_mean</th>\n",
              "      <th>bag of words</th>\n",
              "      <th>bag of words_tfidf</th>\n",
              "      <th>average sentiment score</th>\n",
              "    </tr>\n",
              "  </thead>\n",
              "  <tbody>\n",
              "    <tr>\n",
              "      <th>dummy classifier</th>\n",
              "      <td>0.51</td>\n",
              "      <td>0.51</td>\n",
              "      <td>0.51</td>\n",
              "      <td>0.51</td>\n",
              "      <td>0.51</td>\n",
              "    </tr>\n",
              "    <tr>\n",
              "      <th>random forest</th>\n",
              "      <td>1.0</td>\n",
              "      <td>1.0</td>\n",
              "      <td>1.0</td>\n",
              "      <td>1.0</td>\n",
              "      <td>0.96</td>\n",
              "    </tr>\n",
              "    <tr>\n",
              "      <th>logistic regression</th>\n",
              "      <td>0.965</td>\n",
              "      <td>0.85</td>\n",
              "      <td>1.0</td>\n",
              "      <td>1.0</td>\n",
              "      <td>0.575</td>\n",
              "    </tr>\n",
              "    <tr>\n",
              "      <th>support vector machine</th>\n",
              "      <td>1.0</td>\n",
              "      <td>0.97</td>\n",
              "      <td>0.95</td>\n",
              "      <td>1.0</td>\n",
              "      <td>0.585</td>\n",
              "    </tr>\n",
              "    <tr>\n",
              "      <th>xgboost</th>\n",
              "      <td>1.0</td>\n",
              "      <td>1.0</td>\n",
              "      <td>1.0</td>\n",
              "      <td>1.0</td>\n",
              "      <td>0.73</td>\n",
              "    </tr>\n",
              "  </tbody>\n",
              "</table>\n",
              "</div>"
            ],
            "text/plain": [
              "                       BERT embeddings_mean W2V embeddings_mean bag of words  \\\n",
              "dummy classifier                       0.51                0.51         0.51   \n",
              "random forest                           1.0                 1.0          1.0   \n",
              "logistic regression                   0.965                0.85          1.0   \n",
              "support vector machine                  1.0                0.97         0.95   \n",
              "xgboost                                 1.0                 1.0          1.0   \n",
              "\n",
              "                       bag of words_tfidf average sentiment score  \n",
              "dummy classifier                     0.51                    0.51  \n",
              "random forest                         1.0                    0.96  \n",
              "logistic regression                   1.0                   0.575  \n",
              "support vector machine                1.0                   0.585  \n",
              "xgboost                               1.0                    0.73  "
            ]
          },
          "execution_count": 53,
          "metadata": {},
          "output_type": "execute_result"
        }
      ],
      "source": [
        "train_df\n",
        "train_df.to_csv('train_accuracy.csv', index=False)"
      ]
    }
  ],
  "metadata": {
    "colab": {
      "provenance": []
    },
    "kernel_info": {
      "name": "python3"
    },
    "kernelspec": {
      "display_name": "Python 3 (ipykernel)",
      "language": "python",
      "name": "python3"
    },
    "language_info": {
      "codemirror_mode": {
        "name": "ipython",
        "version": 3
      },
      "file_extension": ".py",
      "mimetype": "text/x-python",
      "name": "python",
      "nbconvert_exporter": "python",
      "pygments_lexer": "ipython3",
      "version": "3.9.13"
    },
    "microsoft": {
      "ms_spell_check": {
        "ms_spell_check_language": "en"
      }
    },
    "nteract": {
      "version": "nteract-front-end@1.0.0"
    },
    "vscode": {
      "interpreter": {
        "hash": "2139c70ac98f3202d028164a545621647e07f47fd6f5d8ac55cf952bf7c15ed1"
      }
    }
  },
  "nbformat": 4,
  "nbformat_minor": 5
}
